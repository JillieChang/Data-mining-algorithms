{
 "cells": [
  {
   "cell_type": "markdown",
   "metadata": {},
   "source": [
    "# Survival Analysis"
   ]
  },
  {
   "cell_type": "markdown",
   "metadata": {},
   "source": [
    "CHAID analysis (Chi Squared Automatic Interaction Detection) is a statistical technique that applied in market research. It is mainly used to understand the characteristics that are most associated with a given outcome or group membership.\n",
    "\n",
    "It is different from classic clusering techniques because it has a dependent variable or an output (clustering techniques only have independent variables)\n",
    "\n",
    "Cases: direct marketing, customer segmentation, customer satisfaction, employee satisfaction\n",
    "\n",
    "Steps:\n",
    "1. Variable seleccion\n",
    "2. Transforming coninuous variables into dummies. All variables should be dummies (you have to transform continuous varaibles into dummies)\n",
    "3. Do your first tree\n",
    "4. Prune it for better interpretability\n"
   ]
  },
  {
   "cell_type": "markdown",
   "metadata": {},
   "source": [
    "## Case of study: Labor Market Ethnic Discrimination "
   ]
  },
  {
   "cell_type": "markdown",
   "metadata": {},
   "source": [
    "We want to analyze:\n",
    "1. what drives people to get callbacks when they apply jobs (if you send your resume what makes you so that you get a call?). \n",
    "\n",
    "2. if people with ethnic names have higher or lower likelihood of getting a callback when they send resumes."
   ]
  },
  {
   "cell_type": "markdown",
   "metadata": {},
   "source": [
    "### 1. Prepare Datasets"
   ]
  },
  {
   "cell_type": "markdown",
   "metadata": {},
   "source": [
    "#### Set directory"
   ]
  },
  {
   "cell_type": "code",
   "execution_count": 1,
   "metadata": {
    "colab": {
     "base_uri": "https://localhost:8080/"
    },
    "executionInfo": {
     "elapsed": 256,
     "status": "ok",
     "timestamp": 1627366700419,
     "user": {
      "displayName": "Diogo Resende",
      "photoUrl": "https://lh3.googleusercontent.com/a-/AOh14GgH4DE06-yE1oiIzCiaAURCl1Escr4LXXiaSnbSaA=s64",
      "userId": "05706604408624562002"
     },
     "user_tz": -120
    },
    "id": "QbPzPn5iGkhp",
    "outputId": "1740d1c9-c10f-4cf8-afa4-0e430ebf0986"
   },
   "outputs": [
    {
     "name": "stdout",
     "output_type": "stream",
     "text": [
      "C:\\Users\\jilli\\Desktop\\PROJECTS\\5_DATA_MINING\\Data Mining for Business in Python-20221025T033547Z-001\\Data Mining for Business in Python\\3. CHAID\n"
     ]
    }
   ],
   "source": [
    "%cd C:\\Users\\jilli\\Desktop\\PROJECTS\\5_DATA_MINING\\Data Mining for Business in Python-20221025T033547Z-001\\Data Mining for Business in Python\\3. CHAID"
   ]
  },
  {
   "cell_type": "markdown",
   "metadata": {},
   "source": [
    "#### Install and import libraries"
   ]
  },
  {
   "cell_type": "code",
   "execution_count": 2,
   "metadata": {
    "colab": {
     "base_uri": "https://localhost:8080/"
    },
    "executionInfo": {
     "elapsed": 30173,
     "status": "ok",
     "timestamp": 1627366734086,
     "user": {
      "displayName": "Diogo Resende",
      "photoUrl": "https://lh3.googleusercontent.com/a-/AOh14GgH4DE06-yE1oiIzCiaAURCl1Escr4LXXiaSnbSaA=s64",
      "userId": "05706604408624562002"
     },
     "user_tz": -120
    },
    "id": "_tiCIOhcG5rf",
    "outputId": "498453ac-1de8-4edf-d809-640d7dc9e40c"
   },
   "outputs": [
    {
     "name": "stdout",
     "output_type": "stream",
     "text": [
      "Collecting chaid\n",
      "  Using cached CHAID-5.3.0-py3-none-any.whl (17 kB)\n",
      "Requirement already satisfied: cython in c:\\users\\jilli\\anaconda3\\lib\\site-packages (from chaid) (0.29.32)\n",
      "Requirement already satisfied: numpy in c:\\users\\jilli\\anaconda3\\lib\\site-packages (from chaid) (1.21.5)\n",
      "Requirement already satisfied: plotly in c:\\users\\jilli\\anaconda3\\lib\\site-packages (from chaid) (5.9.0)\n",
      "Requirement already satisfied: scipy in c:\\users\\jilli\\anaconda3\\lib\\site-packages (from chaid) (1.9.1)\n",
      "Requirement already satisfied: pandas in c:\\users\\jilli\\anaconda3\\lib\\site-packages (from chaid) (1.4.4)\n",
      "Collecting savReaderWriter\n",
      "  Using cached savReaderWriter-3.4.2-py3-none-any.whl\n",
      "Collecting graphviz\n",
      "  Using cached graphviz-0.20.1-py3-none-any.whl (47 kB)\n",
      "Collecting colorlover\n",
      "  Using cached colorlover-0.3.0-py3-none-any.whl (8.9 kB)\n",
      "Collecting treelib\n",
      "  Using cached treelib-1.6.1-py3-none-any.whl\n",
      "Requirement already satisfied: pytest in c:\\users\\jilli\\anaconda3\\lib\\site-packages (from chaid) (7.1.2)\n",
      "Requirement already satisfied: pytz>=2020.1 in c:\\users\\jilli\\anaconda3\\lib\\site-packages (from pandas->chaid) (2022.1)\n",
      "Requirement already satisfied: python-dateutil>=2.8.1 in c:\\users\\jilli\\anaconda3\\lib\\site-packages (from pandas->chaid) (2.8.2)\n",
      "Requirement already satisfied: tenacity>=6.2.0 in c:\\users\\jilli\\anaconda3\\lib\\site-packages (from plotly->chaid) (8.0.1)\n",
      "Requirement already satisfied: attrs>=19.2.0 in c:\\users\\jilli\\anaconda3\\lib\\site-packages (from pytest->chaid) (21.4.0)\n",
      "Requirement already satisfied: iniconfig in c:\\users\\jilli\\anaconda3\\lib\\site-packages (from pytest->chaid) (1.1.1)\n",
      "Requirement already satisfied: packaging in c:\\users\\jilli\\anaconda3\\lib\\site-packages (from pytest->chaid) (21.3)\n",
      "Requirement already satisfied: pluggy<2.0,>=0.12 in c:\\users\\jilli\\anaconda3\\lib\\site-packages (from pytest->chaid) (1.0.0)\n",
      "Requirement already satisfied: py>=1.8.2 in c:\\users\\jilli\\anaconda3\\lib\\site-packages (from pytest->chaid) (1.11.0)\n",
      "Requirement already satisfied: tomli>=1.0.0 in c:\\users\\jilli\\anaconda3\\lib\\site-packages (from pytest->chaid) (2.0.1)\n",
      "Requirement already satisfied: atomicwrites>=1.0 in c:\\users\\jilli\\anaconda3\\lib\\site-packages (from pytest->chaid) (1.4.0)\n",
      "Requirement already satisfied: colorama in c:\\users\\jilli\\anaconda3\\lib\\site-packages (from pytest->chaid) (0.4.5)\n",
      "Requirement already satisfied: future in c:\\users\\jilli\\anaconda3\\lib\\site-packages (from treelib->chaid) (0.18.2)\n",
      "Requirement already satisfied: six>=1.5 in c:\\users\\jilli\\anaconda3\\lib\\site-packages (from python-dateutil>=2.8.1->pandas->chaid) (1.16.0)\n",
      "Requirement already satisfied: pyparsing!=3.0.5,>=2.0.2 in c:\\users\\jilli\\anaconda3\\lib\\site-packages (from packaging->pytest->chaid) (3.0.9)\n",
      "Installing collected packages: savReaderWriter, colorlover, treelib, graphviz, chaid\n",
      "Successfully installed chaid-5.3.0 colorlover-0.3.0 graphviz-0.20.1 savReaderWriter-3.4.2 treelib-1.6.1\n",
      "Collecting orca\n",
      "  Using cached orca-1.8-py2.py3-none-any.whl (19 kB)\n",
      "Requirement already satisfied: pandas>=0.15.0 in c:\\users\\jilli\\anaconda3\\lib\\site-packages (from orca) (1.4.4)\n",
      "Requirement already satisfied: toolz>=0.8.1 in c:\\users\\jilli\\anaconda3\\lib\\site-packages (from orca) (0.11.2)\n",
      "Requirement already satisfied: tables>=3.1 in c:\\users\\jilli\\anaconda3\\lib\\site-packages (from orca) (3.6.1)\n",
      "Requirement already satisfied: numpy>=1.18.5 in c:\\users\\jilli\\anaconda3\\lib\\site-packages (from pandas>=0.15.0->orca) (1.21.5)\n",
      "Requirement already satisfied: pytz>=2020.1 in c:\\users\\jilli\\anaconda3\\lib\\site-packages (from pandas>=0.15.0->orca) (2022.1)\n",
      "Requirement already satisfied: python-dateutil>=2.8.1 in c:\\users\\jilli\\anaconda3\\lib\\site-packages (from pandas>=0.15.0->orca) (2.8.2)\n",
      "Requirement already satisfied: numexpr>=2.6.2 in c:\\users\\jilli\\anaconda3\\lib\\site-packages (from tables>=3.1->orca) (2.8.3)\n",
      "Requirement already satisfied: packaging in c:\\users\\jilli\\anaconda3\\lib\\site-packages (from numexpr>=2.6.2->tables>=3.1->orca) (21.3)\n",
      "Requirement already satisfied: six>=1.5 in c:\\users\\jilli\\anaconda3\\lib\\site-packages (from python-dateutil>=2.8.1->pandas>=0.15.0->orca) (1.16.0)\n",
      "Requirement already satisfied: pyparsing!=3.0.5,>=2.0.2 in c:\\users\\jilli\\anaconda3\\lib\\site-packages (from packaging->numexpr>=2.6.2->tables>=3.1->orca) (3.0.9)\n",
      "Installing collected packages: orca\n",
      "Successfully installed orca-1.8\n",
      "Requirement already satisfied: graphviz in c:\\users\\jilli\\anaconda3\\lib\\site-packages (0.20.1)\n"
     ]
    }
   ],
   "source": [
    "!pip install chaid\n",
    "#visualizing chaid\n",
    "!pip install orca \n",
    "#visualizing chaid\n",
    "!pip install graphviz "
   ]
  },
  {
   "cell_type": "code",
   "execution_count": 3,
   "metadata": {
    "colab": {
     "base_uri": "https://localhost:8080/"
    },
    "executionInfo": {
     "elapsed": 20611,
     "status": "ok",
     "timestamp": 1627366754672,
     "user": {
      "displayName": "Diogo Resende",
      "photoUrl": "https://lh3.googleusercontent.com/a-/AOh14GgH4DE06-yE1oiIzCiaAURCl1Escr4LXXiaSnbSaA=s64",
      "userId": "05706604408624562002"
     },
     "user_tz": -120
    },
    "id": "YaCaijVoHMYw",
    "outputId": "75affa93-e6cc-4f2d-9d62-2e3ce7f4e5ec"
   },
   "outputs": [
    {
     "name": "stderr",
     "output_type": "stream",
     "text": [
      "\"wget\" no se reconoce como un comando interno o externo,\n",
      "programa o archivo por lotes ejecutable.\n",
      "\"chmod\" no se reconoce como un comando interno o externo,\n",
      "programa o archivo por lotes ejecutable.\n",
      "\"apt-get\" no se reconoce como un comando interno o externo,\n",
      "programa o archivo por lotes ejecutable.\n"
     ]
    }
   ],
   "source": [
    "!pip install plotly>=5.13.0\n",
    "!wget https://github.com/plotly/orca/releases/download/v1.2.1/orca-1.2.1-x86_64.AppImage -O /usr/local/bin/orca\n",
    "!chmod +x /usr/local/bin/orca\n",
    "!apt-get install xvfb libgtk2.0-0 libgconf-2-4"
   ]
  },
  {
   "cell_type": "code",
   "execution_count": 4,
   "metadata": {},
   "outputs": [],
   "source": [
    "!pip install plotly>=5.13.0"
   ]
  },
  {
   "cell_type": "code",
   "execution_count": 5,
   "metadata": {},
   "outputs": [
    {
     "name": "stdout",
     "output_type": "stream",
     "text": [
      "Requirement already satisfied: graphviz in c:\\users\\jilli\\anaconda3\\lib\\site-packages (0.20.1)\n"
     ]
    }
   ],
   "source": [
    "!pip install graphviz"
   ]
  },
  {
   "cell_type": "code",
   "execution_count": 6,
   "metadata": {},
   "outputs": [
    {
     "name": "stdout",
     "output_type": "stream",
     "text": [
      "Retrieving notices: ...working... done\n",
      "Collecting package metadata (current_repodata.json): ...working... done\n",
      "Solving environment: ...working... done\n",
      "\n",
      "## Package Plan ##\n",
      "\n",
      "  environment location: C:\\Users\\jilli\\anaconda3\n",
      "\n",
      "  added / updated specs:\n",
      "    - pygraphviz\n",
      "\n",
      "\n",
      "The following packages will be downloaded:\n",
      "\n",
      "    package                    |            build\n",
      "    ---------------------------|-----------------\n",
      "    graphviz-2.41              |                0         4.6 MB  alubbock\n",
      "    pygraphviz-1.5             |           py39_0         122 KB  alubbock\n",
      "    ------------------------------------------------------------\n",
      "                                           Total:         4.7 MB\n",
      "\n",
      "The following NEW packages will be INSTALLED:\n",
      "\n",
      "  graphviz           alubbock/win-64::graphviz-2.41-0 \n",
      "  pygraphviz         alubbock/win-64::pygraphviz-1.5-py39_0 \n",
      "\n",
      "\n",
      "\n",
      "Downloading and Extracting Packages\n",
      "\n",
      "graphviz-2.41        | 4.6 MB    |            |   0% \n",
      "\n",
      "pygraphviz-1.5       | 122 KB    |            |   0% \u001b[A\n",
      "\n",
      "pygraphviz-1.5       | 122 KB    | ########## | 100% \u001b[A\n",
      "\n",
      "pygraphviz-1.5       | 122 KB    | ########## | 100% \u001b[A\n",
      "graphviz-2.41        | 4.6 MB    | ########## | 100% \n",
      "graphviz-2.41        | 4.6 MB    | ########## | 100% \n",
      "                                                     \n",
      "\n",
      "\n",
      "                                                     \u001b[A\n",
      "\n",
      "Preparing transaction: ...working... done\n",
      "Verifying transaction: ...working... done\n",
      "Executing transaction: ...working... done\n",
      "\n",
      "Note: you may need to restart the kernel to use updated packages.\n"
     ]
    }
   ],
   "source": [
    "conda install -c alubbock pygraphviz"
   ]
  },
  {
   "cell_type": "code",
   "execution_count": 7,
   "metadata": {},
   "outputs": [
    {
     "name": "stderr",
     "output_type": "stream",
     "text": [
      "WARNING: Requirement 'pygraphviz-1.3.1-cp27-none-win_amd64.whl' looks like a filename, but the file does not exist\n",
      "ERROR: pygraphviz-1.3.1-cp27-none-win_amd64.whl is not a supported wheel on this platform.\n"
     ]
    }
   ],
   "source": [
    "!pip install pygraphviz-1.3.1-cp27-none-win_amd64.whl"
   ]
  },
  {
   "cell_type": "code",
   "execution_count": 8,
   "metadata": {},
   "outputs": [
    {
     "name": "stdout",
     "output_type": "stream",
     "text": [
      "Collecting package metadata (current_repodata.json): ...working... done\n",
      "Solving environment: ...working... done\n",
      "\n",
      "## Package Plan ##\n",
      "\n",
      "  environment location: C:\\Users\\jilli\\anaconda3\n",
      "\n",
      "  added / updated specs:\n",
      "    - conda\n",
      "\n",
      "\n",
      "The following packages will be downloaded:\n",
      "\n",
      "    package                    |            build\n",
      "    ---------------------------|-----------------\n",
      "    conda-pack-0.7.0           |     pyh6c4a22f_0          30 KB  conda-forge\n",
      "    conda-package-handling-2.0.2|     pyh38be061_0         247 KB  conda-forge\n",
      "    conda-package-streaming-0.7.0|     pyhd8ed1ab_1          17 KB  conda-forge\n",
      "    conda-repo-cli-1.0.27      |   py39haa95532_0         130 KB\n",
      "    freetype-2.10.4            |       hd328e21_0         489 KB  conda-forge\n",
      "    libzopfli-1.0.3            |       ha925a31_0         202 KB  conda-forge\n",
      "    m2-msys2-runtime-2.5.0.17080.65c939c|                3         3.0 MB  conda-forge\n",
      "    m2-patch-2.7.5             |                2          90 KB  conda-forge\n",
      "    m2w64-libwinpthread-git-5.0.0.4634.697f757|                2          31 KB  conda-forge\n",
      "    msys2-conda-epoch-20160418 |                1           3 KB  conda-forge\n",
      "    pathlib-1.0.1              |   py39hcbf5309_7           5 KB  conda-forge\n",
      "    pyjwt-2.6.0                |     pyhd8ed1ab_0          21 KB  conda-forge\n",
      "    winpty-0.4.3               |                4         1.1 MB  conda-forge\n",
      "    yaml-0.2.5                 |       he774522_0          61 KB  conda-forge\n",
      "    zstandard-0.19.0           |   py39h2bbff1b_0         340 KB\n",
      "    ------------------------------------------------------------\n",
      "                                           Total:         5.7 MB\n",
      "\n",
      "The following NEW packages will be INSTALLED:\n",
      "\n",
      "  conda-package-str~ conda-forge/noarch::conda-package-streaming-0.7.0-pyhd8ed1ab_1 \n",
      "  zstandard          pkgs/main/win-64::zstandard-0.19.0-py39h2bbff1b_0 \n",
      "\n",
      "The following packages will be UPDATED:\n",
      "\n",
      "  conda-pack         pkgs/main::conda-pack-0.6.0-pyhd3eb1b~ --> conda-forge::conda-pack-0.7.0-pyh6c4a22f_0 \n",
      "  conda-package-han~ pkgs/main/win-64::conda-package-handl~ --> conda-forge/noarch::conda-package-handling-2.0.2-pyh38be061_0 \n",
      "  conda-repo-cli                      1.0.20-py39haa95532_0 --> 1.0.27-py39haa95532_0 \n",
      "  pathlib            pkgs/main/noarch::pathlib-1.0.1-pyhd3~ --> conda-forge/win-64::pathlib-1.0.1-py39hcbf5309_7 \n",
      "  pyjwt              pkgs/main/win-64::pyjwt-2.4.0-py39haa~ --> conda-forge/noarch::pyjwt-2.6.0-pyhd8ed1ab_0 \n",
      "\n",
      "The following packages will be SUPERSEDED by a higher-priority channel:\n",
      "\n",
      "  freetype                                        pkgs/main --> conda-forge \n",
      "  libzopfli                                       pkgs/main --> conda-forge \n",
      "  m2-msys2-runtime                               pkgs/msys2 --> conda-forge \n",
      "  m2-patch                                       pkgs/msys2 --> conda-forge \n",
      "  m2w64-libwinpthre~                             pkgs/msys2 --> conda-forge \n",
      "  msys2-conda-epoch                              pkgs/msys2 --> conda-forge \n",
      "  winpty                                          pkgs/main --> conda-forge \n",
      "  yaml                                            pkgs/main --> conda-forge \n",
      "\n",
      "\n",
      "\n",
      "Downloading and Extracting Packages\n",
      "\n",
      "conda-package-handli | 247 KB    |            |   0% \n",
      "\n",
      "m2-msys2-runtime-2.5 | 3.0 MB    |            |   0% \u001b[A\n",
      "\n",
      "\n",
      "libzopfli-1.0.3      | 202 KB    |            |   0% \u001b[A\u001b[A\n",
      "\n",
      "\n",
      "\n",
      "conda-package-stream | 17 KB     |            |   0% \u001b[A\u001b[A\u001b[A\n",
      "\n",
      "\n",
      "\n",
      "\n",
      "conda-repo-cli-1.0.2 | 130 KB    |            |   0% \u001b[A\u001b[A\u001b[A\u001b[A\n",
      "\n",
      "\n",
      "\n",
      "\n",
      "\n",
      "zstandard-0.19.0     | 340 KB    |            |   0% \u001b[A\u001b[A\u001b[A\u001b[A\u001b[A\n",
      "\n",
      "\n",
      "\n",
      "\n",
      "\n",
      "\n",
      "m2-patch-2.7.5       | 90 KB     |            |   0% \u001b[A\u001b[A\u001b[A\u001b[A\u001b[A\u001b[A\n",
      "\n",
      "\n",
      "\n",
      "\n",
      "\n",
      "\n",
      "\n",
      "winpty-0.4.3         | 1.1 MB    |            |   0% \u001b[A\u001b[A\u001b[A\u001b[A\u001b[A\u001b[A\u001b[A\n",
      "\n",
      "\n",
      "\n",
      "\n",
      "\n",
      "\n",
      "\n",
      "\n",
      "yaml-0.2.5           | 61 KB     |            |   0% \u001b[A\u001b[A\u001b[A\u001b[A\u001b[A\u001b[A\u001b[A\u001b[A\n",
      "\n",
      "\n",
      "\n",
      "\n",
      "\n",
      "\n",
      "\n",
      "\n",
      "\n",
      "m2w64-libwinpthread- | 31 KB     |            |   0% \u001b[A\u001b[A\u001b[A\u001b[A\u001b[A\u001b[A\u001b[A\u001b[A\u001b[A\n",
      "\n",
      "\n",
      "\n",
      "\n",
      "\n",
      "\n",
      "\n",
      "\n",
      "\n",
      "\n",
      "pyjwt-2.6.0          | 21 KB     |            |   0% \u001b[A\u001b[A\u001b[A\u001b[A\u001b[A\u001b[A\u001b[A\u001b[A\u001b[A\u001b[A\n",
      "\n",
      "\n",
      "\n",
      "\n",
      "\n",
      "\n",
      "\n",
      "\n",
      "\n",
      "\n",
      "\n",
      "freetype-2.10.4      | 489 KB    |            |   0% \u001b[A\u001b[A\u001b[A\u001b[A\u001b[A\u001b[A\u001b[A\u001b[A\u001b[A\u001b[A\u001b[A\n",
      "\n",
      "\n",
      "\n",
      "\n",
      "\n",
      "\n",
      "\n",
      "\n",
      "\n",
      "\n",
      "\n",
      "\n",
      "conda-pack-0.7.0     | 30 KB     |            |   0% \u001b[A\u001b[A\u001b[A\u001b[A\u001b[A\u001b[A\u001b[A\u001b[A\u001b[A\u001b[A\u001b[A\u001b[A\n",
      "\n",
      "\n",
      "\n",
      "\n",
      "\n",
      "\n",
      "\n",
      "\n",
      "\n",
      "\n",
      "\n",
      "\n",
      "\n",
      "pathlib-1.0.1        | 5 KB      |            |   0% \u001b[A\u001b[A\u001b[A\u001b[A\u001b[A\u001b[A\u001b[A\u001b[A\u001b[A\u001b[A\u001b[A\u001b[A\u001b[A\n",
      "\n",
      "\n",
      "\n",
      "\n",
      "\n",
      "\n",
      "\n",
      "\n",
      "\n",
      "\n",
      "\n",
      "\n",
      "\n",
      "\n",
      "msys2-conda-epoch-20 | 3 KB      |            |   0% \u001b[A\u001b[A\u001b[A\u001b[A\u001b[A\u001b[A\u001b[A\u001b[A\u001b[A\u001b[A\u001b[A\u001b[A\u001b[A\u001b[A\n",
      "\n",
      "\n",
      "\n",
      "conda-package-stream | 17 KB     | #########3 |  94% \u001b[A\u001b[A\u001b[A\n",
      "\n",
      "\n",
      "\n",
      "\n",
      "conda-repo-cli-1.0.2 | 130 KB    | #2         |  12% \u001b[A\u001b[A\u001b[A\u001b[A\n",
      "conda-package-handli | 247 KB    | 6          |   6% \n",
      "\n",
      "\n",
      "libzopfli-1.0.3      | 202 KB    | 7          |   8% \u001b[A\u001b[A\n",
      "\n",
      "m2-msys2-runtime-2.5 | 3.0 MB    |            |   1% \u001b[A\n",
      "\n",
      "\n",
      "\n",
      "\n",
      "\n",
      "\n",
      "\n",
      "winpty-0.4.3         | 1.1 MB    | 1          |   1% \u001b[A\u001b[A\u001b[A\u001b[A\u001b[A\u001b[A\u001b[A\n",
      "\n",
      "\n",
      "\n",
      "\n",
      "\n",
      "zstandard-0.19.0     | 340 KB    | 4          |   5% \u001b[A\u001b[A\u001b[A\u001b[A\u001b[A\n",
      "\n",
      "m2-msys2-runtime-2.5 | 3.0 MB    | #          |  11% \u001b[A\n",
      "\n",
      "\n",
      "\n",
      "conda-package-stream | 17 KB     | ########## | 100% \u001b[A\u001b[A\u001b[A\n",
      "\n",
      "\n",
      "\n",
      "\n",
      "\n",
      "\n",
      "\n",
      "winpty-0.4.3         | 1.1 MB    | ###8       |  39% \u001b[A\u001b[A\u001b[A\u001b[A\u001b[A\u001b[A\u001b[A\n",
      "\n",
      "\n",
      "\n",
      "\n",
      "\n",
      "zstandard-0.19.0     | 340 KB    | ######5    |  66% \u001b[A\u001b[A\u001b[A\u001b[A\u001b[A\n",
      "\n",
      "m2-msys2-runtime-2.5 | 3.0 MB    | #9         |  20% \u001b[A\n",
      "\n",
      "\n",
      "\n",
      "\n",
      "\n",
      "\n",
      "\n",
      "winpty-0.4.3         | 1.1 MB    | ######8    |  68% \u001b[A\u001b[A\u001b[A\u001b[A\u001b[A\u001b[A\u001b[A\n",
      "\n",
      "\n",
      "\n",
      "\n",
      "\n",
      "\n",
      "\n",
      "\n",
      "yaml-0.2.5           | 61 KB     | ##6        |  26% \u001b[A\u001b[A\u001b[A\u001b[A\u001b[A\u001b[A\u001b[A\u001b[A\n",
      "\n",
      "\n",
      "\n",
      "\n",
      "\n",
      "\n",
      "m2-patch-2.7.5       | 90 KB     | #7         |  18% \u001b[A\u001b[A\u001b[A\u001b[A\u001b[A\u001b[A\n",
      "\n",
      "\n",
      "\n",
      "\n",
      "\n",
      "zstandard-0.19.0     | 340 KB    | #########8 |  99% \u001b[A\u001b[A\u001b[A\u001b[A\u001b[A\n",
      "\n",
      "\n",
      "\n",
      "\n",
      "\n",
      "\n",
      "\n",
      "\n",
      "\n",
      "m2w64-libwinpthread- | 31 KB     | #####1     |  51% \u001b[A\u001b[A\u001b[A\u001b[A\u001b[A\u001b[A\u001b[A\u001b[A\u001b[A\n",
      "\n",
      "\n",
      "\n",
      "\n",
      "conda-repo-cli-1.0.2 | 130 KB    | ########## | 100% \u001b[A\u001b[A\u001b[A\u001b[A\n",
      "\n",
      "\n",
      "\n",
      "\n",
      "conda-repo-cli-1.0.2 | 130 KB    | ########## | 100% \u001b[A\u001b[A\u001b[A\u001b[A\n",
      "\n",
      "m2-msys2-runtime-2.5 | 3.0 MB    | ###7       |  38% \u001b[A\n",
      "\n",
      "\n",
      "\n",
      "\n",
      "\n",
      "\n",
      "\n",
      "\n",
      "\n",
      "\n",
      "pyjwt-2.6.0          | 21 KB     | #######6   |  76% \u001b[A\u001b[A\u001b[A\u001b[A\u001b[A\u001b[A\u001b[A\u001b[A\u001b[A\u001b[A\n",
      "\n",
      "m2-msys2-runtime-2.5 | 3.0 MB    | #####2     |  53% \u001b[A\n",
      "\n",
      "\n",
      "\n",
      "\n",
      "\n",
      "\n",
      "\n",
      "\n",
      "\n",
      "\n",
      "\n",
      "\n",
      "\n",
      "\n",
      "msys2-conda-epoch-20 | 3 KB      | ########## | 100% \u001b[A\u001b[A\u001b[A\u001b[A\u001b[A\u001b[A\u001b[A\u001b[A\u001b[A\u001b[A\u001b[A\u001b[A\u001b[A\u001b[A\n",
      "\n",
      "\n",
      "\n",
      "\n",
      "\n",
      "\n",
      "\n",
      "\n",
      "\n",
      "\n",
      "\n",
      "\n",
      "conda-pack-0.7.0     | 30 KB     | #####3     |  54% \u001b[A\u001b[A\u001b[A\u001b[A\u001b[A\u001b[A\u001b[A\u001b[A\u001b[A\u001b[A\u001b[A\u001b[A\n",
      "\n",
      "\n",
      "\n",
      "\n",
      "\n",
      "\n",
      "\n",
      "\n",
      "\n",
      "\n",
      "\n",
      "\n",
      "\n",
      "pathlib-1.0.1        | 5 KB      | ########## | 100% \u001b[A\u001b[A\u001b[A\u001b[A\u001b[A\u001b[A\u001b[A\u001b[A\u001b[A\u001b[A\u001b[A\u001b[A\u001b[A\n",
      "\n",
      "\n",
      "\n",
      "\n",
      "\n",
      "\n",
      "\n",
      "\n",
      "\n",
      "\n",
      "\n",
      "freetype-2.10.4      | 489 KB    | 3          |   3% \u001b[A\u001b[A\u001b[A\u001b[A\u001b[A\u001b[A\u001b[A\u001b[A\u001b[A\u001b[A\u001b[A\n",
      "conda-package-handli | 247 KB    | ########## | 100% \n",
      "conda-package-handli | 247 KB    | ########## | 100% \n",
      "\n",
      "m2-msys2-runtime-2.5 | 3.0 MB    | #######4   |  75% \u001b[A\n",
      "\n",
      "\n",
      "libzopfli-1.0.3      | 202 KB    | ########## | 100% \u001b[A\u001b[A\n",
      "\n",
      "\n",
      "libzopfli-1.0.3      | 202 KB    | ########## | 100% \u001b[A\u001b[A\n",
      "\n",
      "m2-msys2-runtime-2.5 | 3.0 MB    | ########8  |  89% \u001b[A\n",
      "\n",
      "\n",
      "\n",
      "\n",
      "\n",
      "\n",
      "\n",
      "\n",
      "yaml-0.2.5           | 61 KB     | ########## | 100% \u001b[A\u001b[A\u001b[A\u001b[A\u001b[A\u001b[A\u001b[A\u001b[A\n",
      "\n",
      "\n",
      "\n",
      "\n",
      "\n",
      "\n",
      "\n",
      "\n",
      "yaml-0.2.5           | 61 KB     | ########## | 100% \u001b[A\u001b[A\u001b[A\u001b[A\u001b[A\u001b[A\u001b[A\u001b[A\n",
      "\n",
      "\n",
      "\n",
      "\n",
      "\n",
      "zstandard-0.19.0     | 340 KB    | ########## | 100% \u001b[A\u001b[A\u001b[A\u001b[A\u001b[A\n",
      "\n",
      "\n",
      "\n",
      "\n",
      "\n",
      "\n",
      "m2-patch-2.7.5       | 90 KB     | ########## | 100% \u001b[A\u001b[A\u001b[A\u001b[A\u001b[A\u001b[A\n",
      "\n",
      "\n",
      "\n",
      "\n",
      "\n",
      "\n",
      "m2-patch-2.7.5       | 90 KB     | ########## | 100% \u001b[A\u001b[A\u001b[A\u001b[A\u001b[A\u001b[A\n",
      "\n",
      "\n",
      "\n",
      "\n",
      "\n",
      "\n",
      "\n",
      "winpty-0.4.3         | 1.1 MB    | ########## | 100% \u001b[A\u001b[A\u001b[A\u001b[A\u001b[A\u001b[A\u001b[A\n",
      "\n",
      "\n",
      "\n",
      "\n",
      "\n",
      "\n",
      "\n",
      "winpty-0.4.3         | 1.1 MB    | ########## | 100% \u001b[A\u001b[A\u001b[A\u001b[A\u001b[A\u001b[A\u001b[A\n",
      "\n",
      "\n",
      "\n",
      "\n",
      "\n",
      "\n",
      "\n",
      "\n",
      "\n",
      "m2w64-libwinpthread- | 31 KB     | ########## | 100% \u001b[A\u001b[A\u001b[A\u001b[A\u001b[A\u001b[A\u001b[A\u001b[A\u001b[A\n",
      "\n",
      "\n",
      "\n",
      "\n",
      "\n",
      "\n",
      "\n",
      "\n",
      "\n",
      "m2w64-libwinpthread- | 31 KB     | ########## | 100% \u001b[A\u001b[A\u001b[A\u001b[A\u001b[A\u001b[A\u001b[A\u001b[A\u001b[A\n",
      "\n",
      "\n",
      "\n",
      "\n",
      "\n",
      "\n",
      "\n",
      "\n",
      "\n",
      "\n",
      "pyjwt-2.6.0          | 21 KB     | ########## | 100% \u001b[A\u001b[A\u001b[A\u001b[A\u001b[A\u001b[A\u001b[A\u001b[A\u001b[A\u001b[A\n",
      "\n",
      "\n",
      "\n",
      "\n",
      "\n",
      "\n",
      "\n",
      "\n",
      "\n",
      "\n",
      "pyjwt-2.6.0          | 21 KB     | ########## | 100% \u001b[A\u001b[A\u001b[A\u001b[A\u001b[A\u001b[A\u001b[A\u001b[A\u001b[A\u001b[A\n",
      "\n",
      "\n",
      "\n",
      "\n",
      "\n",
      "\n",
      "\n",
      "\n",
      "\n",
      "\n",
      "\n",
      "\n",
      "\n",
      "\n",
      "msys2-conda-epoch-20 | 3 KB      | ########## | 100% \u001b[A\u001b[A\u001b[A\u001b[A\u001b[A\u001b[A\u001b[A\u001b[A\u001b[A\u001b[A\u001b[A\u001b[A\u001b[A\u001b[A\n",
      "\n",
      "\n",
      "\n",
      "\n",
      "\n",
      "\n",
      "\n",
      "\n",
      "\n",
      "\n",
      "\n",
      "\n",
      "conda-pack-0.7.0     | 30 KB     | ########## | 100% \u001b[A\u001b[A\u001b[A\u001b[A\u001b[A\u001b[A\u001b[A\u001b[A\u001b[A\u001b[A\u001b[A\u001b[A\n",
      "\n",
      "\n",
      "\n",
      "\n",
      "\n",
      "\n",
      "\n",
      "\n",
      "\n",
      "\n",
      "\n",
      "\n",
      "conda-pack-0.7.0     | 30 KB     | ########## | 100% \u001b[A\u001b[A\u001b[A\u001b[A\u001b[A\u001b[A\u001b[A\u001b[A\u001b[A\u001b[A\u001b[A\u001b[A\n",
      "\n",
      "\n",
      "\n",
      "\n",
      "\n",
      "\n",
      "\n",
      "\n",
      "\n",
      "\n",
      "\n",
      "\n",
      "\n",
      "pathlib-1.0.1        | 5 KB      | ########## | 100% \u001b[A\u001b[A\u001b[A\u001b[A\u001b[A\u001b[A\u001b[A\u001b[A\u001b[A\u001b[A\u001b[A\u001b[A\u001b[A\n",
      "\n",
      "\n",
      "\n",
      "\n",
      "\n",
      "\n",
      "\n",
      "\n",
      "\n",
      "\n",
      "\n",
      "freetype-2.10.4      | 489 KB    | ########## | 100% \u001b[A\u001b[A\u001b[A\u001b[A\u001b[A\u001b[A\u001b[A\u001b[A\u001b[A\u001b[A\u001b[A\n",
      "\n",
      "\n",
      "\n",
      "\n",
      "\n",
      "\n",
      "\n",
      "\n",
      "\n",
      "\n",
      "\n",
      "freetype-2.10.4      | 489 KB    | ########## | 100% \u001b[A\u001b[A\u001b[A\u001b[A\u001b[A\u001b[A\u001b[A\u001b[A\u001b[A\u001b[A\u001b[A\n",
      "\n",
      "m2-msys2-runtime-2.5 | 3.0 MB    | ########## | 100% \u001b[A\n",
      "                                                     \n",
      "\n",
      "\n",
      "                                                     \u001b[A\n",
      "\n",
      "\n",
      "                                                     \u001b[A\u001b[A\n",
      "\n",
      "\n",
      "\n",
      "                                                     \u001b[A\u001b[A\u001b[A\n",
      "\n",
      "\n",
      "\n",
      "\n",
      "                                                     \u001b[A\u001b[A\u001b[A\u001b[A\n",
      "\n",
      "\n",
      "\n",
      "\n",
      "\n",
      "                                                     \u001b[A\u001b[A\u001b[A\u001b[A\u001b[A\n",
      "\n",
      "\n",
      "\n",
      "\n",
      "\n",
      "\n",
      "                                                     \u001b[A\u001b[A\u001b[A\u001b[A\u001b[A\u001b[A\n",
      "\n",
      "\n",
      "\n",
      "\n",
      "\n",
      "\n",
      "\n",
      "                                                     \u001b[A\u001b[A\u001b[A\u001b[A\u001b[A\u001b[A\u001b[A\n",
      "\n",
      "\n",
      "\n",
      "\n",
      "\n",
      "\n",
      "\n",
      "\n",
      "                                                     \u001b[A\u001b[A\u001b[A\u001b[A\u001b[A\u001b[A\u001b[A\u001b[A\n",
      "\n",
      "\n",
      "\n",
      "\n",
      "\n",
      "\n",
      "\n",
      "\n",
      "\n",
      "                                                     \u001b[A\u001b[A\u001b[A\u001b[A\u001b[A\u001b[A\u001b[A\u001b[A\u001b[A\n",
      "\n",
      "\n",
      "\n",
      "\n",
      "\n",
      "\n",
      "\n",
      "\n",
      "\n",
      "\n",
      "                                                     \u001b[A\u001b[A\u001b[A\u001b[A\u001b[A\u001b[A\u001b[A\u001b[A\u001b[A\u001b[A\n",
      "\n",
      "\n",
      "\n",
      "\n",
      "\n",
      "\n",
      "\n",
      "\n",
      "\n",
      "\n",
      "\n",
      "                                                     \u001b[A\u001b[A\u001b[A\u001b[A\u001b[A\u001b[A\u001b[A\u001b[A\u001b[A\u001b[A\u001b[A\n",
      "\n",
      "\n",
      "\n",
      "\n",
      "\n",
      "\n",
      "\n",
      "\n",
      "\n",
      "\n",
      "\n",
      "\n",
      "                                                     \u001b[A\u001b[A\u001b[A\u001b[A\u001b[A\u001b[A\u001b[A\u001b[A\u001b[A\u001b[A\u001b[A\u001b[A\n",
      "\n",
      "\n",
      "\n",
      "\n",
      "\n",
      "\n",
      "\n",
      "\n",
      "\n",
      "\n",
      "\n",
      "\n",
      "\n",
      "                                                     \u001b[A\u001b[A\u001b[A\u001b[A\u001b[A\u001b[A\u001b[A\u001b[A\u001b[A\u001b[A\u001b[A\u001b[A\u001b[A\n",
      "\n",
      "\n",
      "\n",
      "\n",
      "\n",
      "\n",
      "\n",
      "\n",
      "\n",
      "\n",
      "\n",
      "\n",
      "\n",
      "\n",
      "                                                     \u001b[A\u001b[A\u001b[A\u001b[A\u001b[A\u001b[A\u001b[A\u001b[A\u001b[A\u001b[A\u001b[A\u001b[A\u001b[A\u001b[A\n",
      "\n",
      "Preparing transaction: ...working... done\n",
      "Verifying transaction: ...working... done\n",
      "Executing transaction: ...working... done\n",
      "\n",
      "Note: you may need to restart the kernel to use updated packages.\n"
     ]
    }
   ],
   "source": [
    " conda update -n base -c conda-forge conda"
   ]
  },
  {
   "cell_type": "code",
   "execution_count": 9,
   "metadata": {},
   "outputs": [
    {
     "name": "stdout",
     "output_type": "stream",
     "text": [
      "Note: you may need to restart the kernel to use updated packages.\n"
     ]
    },
    {
     "name": "stderr",
     "output_type": "stream",
     "text": [
      "WARNING: Disabling all use of wheels due to the use of --build-option / --global-option / --install-option.\n",
      "ERROR: You must give at least one requirement to install (see \"pip help install\")\n"
     ]
    }
   ],
   "source": [
    "pip install --global-option=build_ext --global-option=\"-IC:\\Program Files\\Graphviz2.38\\include\" --global-option=\"-LC:\\Program Files\\Graphviz2.38\\lib\\\" pygraphviz\n"
   ]
  },
  {
   "cell_type": "code",
   "execution_count": 3,
   "metadata": {
    "colab": {
     "base_uri": "https://localhost:8080/"
    },
    "executionInfo": {
     "elapsed": 2576,
     "status": "ok",
     "timestamp": 1627366777107,
     "user": {
      "displayName": "Diogo Resende",
      "photoUrl": "https://lh3.googleusercontent.com/a-/AOh14GgH4DE06-yE1oiIzCiaAURCl1Escr4LXXiaSnbSaA=s64",
      "userId": "05706604408624562002"
     },
     "user_tz": -120
    },
    "id": "A-J9XlMyII0r",
    "outputId": "ff8d4d11-2937-45df-8e07-c6b88ac27a78"
   },
   "outputs": [],
   "source": [
    "#import libraries\n",
    "import pandas as pd\n",
    "import statsmodels.api as sm # to get data\n",
    "from CHAID import Tree"
   ]
  },
  {
   "cell_type": "markdown",
   "metadata": {
    "id": "__wkXdvZIUgj"
   },
   "source": [
    "#### Import data"
   ]
  },
  {
   "cell_type": "code",
   "execution_count": 4,
   "metadata": {
    "colab": {
     "base_uri": "https://localhost:8080/",
     "height": 240
    },
    "executionInfo": {
     "elapsed": 951,
     "status": "ok",
     "timestamp": 1627366780462,
     "user": {
      "displayName": "Diogo Resende",
      "photoUrl": "https://lh3.googleusercontent.com/a-/AOh14GgH4DE06-yE1oiIzCiaAURCl1Escr4LXXiaSnbSaA=s64",
      "userId": "05706604408624562002"
     },
     "user_tz": -120
    },
    "id": "1VaQdn_1IS2l",
    "outputId": "e32e87ee-c25d-4c93-9032-b86c7543c476"
   },
   "outputs": [
    {
     "data": {
      "text/html": [
       "<div>\n",
       "<style scoped>\n",
       "    .dataframe tbody tr th:only-of-type {\n",
       "        vertical-align: middle;\n",
       "    }\n",
       "\n",
       "    .dataframe tbody tr th {\n",
       "        vertical-align: top;\n",
       "    }\n",
       "\n",
       "    .dataframe thead th {\n",
       "        text-align: right;\n",
       "    }\n",
       "</style>\n",
       "<table border=\"1\" class=\"dataframe\">\n",
       "  <thead>\n",
       "    <tr style=\"text-align: right;\">\n",
       "      <th></th>\n",
       "      <th>name</th>\n",
       "      <th>gender</th>\n",
       "      <th>ethnicity</th>\n",
       "      <th>quality</th>\n",
       "      <th>call</th>\n",
       "      <th>city</th>\n",
       "      <th>jobs</th>\n",
       "      <th>experience</th>\n",
       "      <th>honors</th>\n",
       "      <th>volunteer</th>\n",
       "      <th>...</th>\n",
       "      <th>minimum</th>\n",
       "      <th>equal</th>\n",
       "      <th>wanted</th>\n",
       "      <th>requirements</th>\n",
       "      <th>reqexp</th>\n",
       "      <th>reqcomm</th>\n",
       "      <th>reqeduc</th>\n",
       "      <th>reqcomp</th>\n",
       "      <th>reqorg</th>\n",
       "      <th>industry</th>\n",
       "    </tr>\n",
       "  </thead>\n",
       "  <tbody>\n",
       "    <tr>\n",
       "      <th>0</th>\n",
       "      <td>Allison</td>\n",
       "      <td>female</td>\n",
       "      <td>cauc</td>\n",
       "      <td>low</td>\n",
       "      <td>no</td>\n",
       "      <td>chicago</td>\n",
       "      <td>2</td>\n",
       "      <td>6</td>\n",
       "      <td>no</td>\n",
       "      <td>no</td>\n",
       "      <td>...</td>\n",
       "      <td>5</td>\n",
       "      <td>yes</td>\n",
       "      <td>supervisor</td>\n",
       "      <td>yes</td>\n",
       "      <td>yes</td>\n",
       "      <td>no</td>\n",
       "      <td>no</td>\n",
       "      <td>yes</td>\n",
       "      <td>no</td>\n",
       "      <td>manufacturing</td>\n",
       "    </tr>\n",
       "    <tr>\n",
       "      <th>1</th>\n",
       "      <td>Kristen</td>\n",
       "      <td>female</td>\n",
       "      <td>cauc</td>\n",
       "      <td>high</td>\n",
       "      <td>no</td>\n",
       "      <td>chicago</td>\n",
       "      <td>3</td>\n",
       "      <td>6</td>\n",
       "      <td>no</td>\n",
       "      <td>yes</td>\n",
       "      <td>...</td>\n",
       "      <td>5</td>\n",
       "      <td>yes</td>\n",
       "      <td>supervisor</td>\n",
       "      <td>yes</td>\n",
       "      <td>yes</td>\n",
       "      <td>no</td>\n",
       "      <td>no</td>\n",
       "      <td>yes</td>\n",
       "      <td>no</td>\n",
       "      <td>manufacturing</td>\n",
       "    </tr>\n",
       "    <tr>\n",
       "      <th>2</th>\n",
       "      <td>Lakisha</td>\n",
       "      <td>female</td>\n",
       "      <td>afam</td>\n",
       "      <td>low</td>\n",
       "      <td>no</td>\n",
       "      <td>chicago</td>\n",
       "      <td>1</td>\n",
       "      <td>6</td>\n",
       "      <td>no</td>\n",
       "      <td>no</td>\n",
       "      <td>...</td>\n",
       "      <td>5</td>\n",
       "      <td>yes</td>\n",
       "      <td>supervisor</td>\n",
       "      <td>yes</td>\n",
       "      <td>yes</td>\n",
       "      <td>no</td>\n",
       "      <td>no</td>\n",
       "      <td>yes</td>\n",
       "      <td>no</td>\n",
       "      <td>manufacturing</td>\n",
       "    </tr>\n",
       "    <tr>\n",
       "      <th>3</th>\n",
       "      <td>Latonya</td>\n",
       "      <td>female</td>\n",
       "      <td>afam</td>\n",
       "      <td>high</td>\n",
       "      <td>no</td>\n",
       "      <td>chicago</td>\n",
       "      <td>4</td>\n",
       "      <td>6</td>\n",
       "      <td>no</td>\n",
       "      <td>yes</td>\n",
       "      <td>...</td>\n",
       "      <td>5</td>\n",
       "      <td>yes</td>\n",
       "      <td>supervisor</td>\n",
       "      <td>yes</td>\n",
       "      <td>yes</td>\n",
       "      <td>no</td>\n",
       "      <td>no</td>\n",
       "      <td>yes</td>\n",
       "      <td>no</td>\n",
       "      <td>manufacturing</td>\n",
       "    </tr>\n",
       "    <tr>\n",
       "      <th>4</th>\n",
       "      <td>Carrie</td>\n",
       "      <td>female</td>\n",
       "      <td>cauc</td>\n",
       "      <td>high</td>\n",
       "      <td>no</td>\n",
       "      <td>chicago</td>\n",
       "      <td>3</td>\n",
       "      <td>22</td>\n",
       "      <td>no</td>\n",
       "      <td>no</td>\n",
       "      <td>...</td>\n",
       "      <td>some</td>\n",
       "      <td>yes</td>\n",
       "      <td>secretary</td>\n",
       "      <td>yes</td>\n",
       "      <td>yes</td>\n",
       "      <td>no</td>\n",
       "      <td>no</td>\n",
       "      <td>yes</td>\n",
       "      <td>yes</td>\n",
       "      <td>health/education/social services</td>\n",
       "    </tr>\n",
       "  </tbody>\n",
       "</table>\n",
       "<p>5 rows × 27 columns</p>\n",
       "</div>"
      ],
      "text/plain": [
       "      name  gender ethnicity quality call     city  jobs  experience honors  \\\n",
       "0  Allison  female      cauc     low   no  chicago     2           6     no   \n",
       "1  Kristen  female      cauc    high   no  chicago     3           6     no   \n",
       "2  Lakisha  female      afam     low   no  chicago     1           6     no   \n",
       "3  Latonya  female      afam    high   no  chicago     4           6     no   \n",
       "4   Carrie  female      cauc    high   no  chicago     3          22     no   \n",
       "\n",
       "  volunteer  ... minimum equal      wanted requirements reqexp reqcomm  \\\n",
       "0        no  ...       5   yes  supervisor          yes    yes      no   \n",
       "1       yes  ...       5   yes  supervisor          yes    yes      no   \n",
       "2        no  ...       5   yes  supervisor          yes    yes      no   \n",
       "3       yes  ...       5   yes  supervisor          yes    yes      no   \n",
       "4        no  ...    some   yes   secretary          yes    yes      no   \n",
       "\n",
       "  reqeduc reqcomp reqorg                          industry  \n",
       "0      no     yes     no                     manufacturing  \n",
       "1      no     yes     no                     manufacturing  \n",
       "2      no     yes     no                     manufacturing  \n",
       "3      no     yes     no                     manufacturing  \n",
       "4      no     yes    yes  health/education/social services  \n",
       "\n",
       "[5 rows x 27 columns]"
      ]
     },
     "execution_count": 4,
     "metadata": {},
     "output_type": "execute_result"
    }
   ],
   "source": [
    "#import data (from datasets, use the function \n",
    "# get_rdataset(dataname, package='datasets') to get the dataset called ResumeNames)\n",
    "data = sm.datasets.get_rdataset(\"ResumeNames\",\n",
    "                                package = \"AER\").data \n",
    "data.head()                               "
   ]
  },
  {
   "cell_type": "code",
   "execution_count": 2,
   "metadata": {},
   "outputs": [
    {
     "name": "stdout",
     "output_type": "stream",
     "text": [
      "Collecting package metadata (current_repodata.json): ...working... done\n",
      "Solving environment: ...working... failed with initial frozen solve. Retrying with flexible solve.\n",
      "Collecting package metadata (repodata.json): ...working... done\n",
      "Solving environment: ...working... failed with initial frozen solve. Retrying with flexible solve.\n",
      "\n",
      "Note: you may need to restart the kernel to use updated packages.\n"
     ]
    },
    {
     "name": "stderr",
     "output_type": "stream",
     "text": [
      "\n",
      "PackagesNotFoundError: The following packages are not available from current channels:\n",
      "\n",
      "  - conda-forge/graphviz\n",
      "\n",
      "Current channels:\n",
      "\n",
      "  - https://conda.anaconda.org/conda-forge/win-64\n",
      "  - https://conda.anaconda.org/conda-forge/noarch\n",
      "  - https://repo.anaconda.com/pkgs/main/win-64\n",
      "  - https://repo.anaconda.com/pkgs/main/noarch\n",
      "  - https://repo.anaconda.com/pkgs/r/win-64\n",
      "  - https://repo.anaconda.com/pkgs/r/noarch\n",
      "  - https://repo.anaconda.com/pkgs/msys2/win-64\n",
      "  - https://repo.anaconda.com/pkgs/msys2/noarch\n",
      "\n",
      "To search for alternate channels that may provide the conda package you're\n",
      "looking for, navigate to\n",
      "\n",
      "    https://anaconda.org\n",
      "\n",
      "and use the search bar at the top of the page.\n",
      "\n",
      "\n"
     ]
    }
   ],
   "source": [
    "conda install conda-forge/graphviz"
   ]
  },
  {
   "cell_type": "markdown",
   "metadata": {},
   "source": [
    "Important variables\n",
    "- call: dependent variable\n",
    "- ethnicity: independent variable of interest\n",
    "\n"
   ]
  },
  {
   "cell_type": "markdown",
   "metadata": {},
   "source": [
    "#### Transform data"
   ]
  },
  {
   "cell_type": "markdown",
   "metadata": {},
   "source": [
    "Drop name variable because it is too much noise when we run the model"
   ]
  },
  {
   "cell_type": "code",
   "execution_count": 5,
   "metadata": {
    "colab": {
     "base_uri": "https://localhost:8080/",
     "height": 240
    },
    "executionInfo": {
     "elapsed": 196,
     "status": "ok",
     "timestamp": 1627366783564,
     "user": {
      "displayName": "Diogo Resende",
      "photoUrl": "https://lh3.googleusercontent.com/a-/AOh14GgH4DE06-yE1oiIzCiaAURCl1Escr4LXXiaSnbSaA=s64",
      "userId": "05706604408624562002"
     },
     "user_tz": -120
    },
    "id": "W06SYoQsx348",
    "outputId": "04a1966b-8a60-4170-fc6d-c175ae1d8f0c"
   },
   "outputs": [
    {
     "data": {
      "text/html": [
       "<div>\n",
       "<style scoped>\n",
       "    .dataframe tbody tr th:only-of-type {\n",
       "        vertical-align: middle;\n",
       "    }\n",
       "\n",
       "    .dataframe tbody tr th {\n",
       "        vertical-align: top;\n",
       "    }\n",
       "\n",
       "    .dataframe thead th {\n",
       "        text-align: right;\n",
       "    }\n",
       "</style>\n",
       "<table border=\"1\" class=\"dataframe\">\n",
       "  <thead>\n",
       "    <tr style=\"text-align: right;\">\n",
       "      <th></th>\n",
       "      <th>gender</th>\n",
       "      <th>ethnicity</th>\n",
       "      <th>quality</th>\n",
       "      <th>call</th>\n",
       "      <th>city</th>\n",
       "      <th>jobs</th>\n",
       "      <th>experience</th>\n",
       "      <th>honors</th>\n",
       "      <th>volunteer</th>\n",
       "      <th>military</th>\n",
       "      <th>...</th>\n",
       "      <th>minimum</th>\n",
       "      <th>equal</th>\n",
       "      <th>wanted</th>\n",
       "      <th>requirements</th>\n",
       "      <th>reqexp</th>\n",
       "      <th>reqcomm</th>\n",
       "      <th>reqeduc</th>\n",
       "      <th>reqcomp</th>\n",
       "      <th>reqorg</th>\n",
       "      <th>industry</th>\n",
       "    </tr>\n",
       "  </thead>\n",
       "  <tbody>\n",
       "    <tr>\n",
       "      <th>0</th>\n",
       "      <td>female</td>\n",
       "      <td>cauc</td>\n",
       "      <td>low</td>\n",
       "      <td>no</td>\n",
       "      <td>chicago</td>\n",
       "      <td>2</td>\n",
       "      <td>6</td>\n",
       "      <td>no</td>\n",
       "      <td>no</td>\n",
       "      <td>no</td>\n",
       "      <td>...</td>\n",
       "      <td>5</td>\n",
       "      <td>yes</td>\n",
       "      <td>supervisor</td>\n",
       "      <td>yes</td>\n",
       "      <td>yes</td>\n",
       "      <td>no</td>\n",
       "      <td>no</td>\n",
       "      <td>yes</td>\n",
       "      <td>no</td>\n",
       "      <td>manufacturing</td>\n",
       "    </tr>\n",
       "    <tr>\n",
       "      <th>1</th>\n",
       "      <td>female</td>\n",
       "      <td>cauc</td>\n",
       "      <td>high</td>\n",
       "      <td>no</td>\n",
       "      <td>chicago</td>\n",
       "      <td>3</td>\n",
       "      <td>6</td>\n",
       "      <td>no</td>\n",
       "      <td>yes</td>\n",
       "      <td>yes</td>\n",
       "      <td>...</td>\n",
       "      <td>5</td>\n",
       "      <td>yes</td>\n",
       "      <td>supervisor</td>\n",
       "      <td>yes</td>\n",
       "      <td>yes</td>\n",
       "      <td>no</td>\n",
       "      <td>no</td>\n",
       "      <td>yes</td>\n",
       "      <td>no</td>\n",
       "      <td>manufacturing</td>\n",
       "    </tr>\n",
       "    <tr>\n",
       "      <th>2</th>\n",
       "      <td>female</td>\n",
       "      <td>afam</td>\n",
       "      <td>low</td>\n",
       "      <td>no</td>\n",
       "      <td>chicago</td>\n",
       "      <td>1</td>\n",
       "      <td>6</td>\n",
       "      <td>no</td>\n",
       "      <td>no</td>\n",
       "      <td>no</td>\n",
       "      <td>...</td>\n",
       "      <td>5</td>\n",
       "      <td>yes</td>\n",
       "      <td>supervisor</td>\n",
       "      <td>yes</td>\n",
       "      <td>yes</td>\n",
       "      <td>no</td>\n",
       "      <td>no</td>\n",
       "      <td>yes</td>\n",
       "      <td>no</td>\n",
       "      <td>manufacturing</td>\n",
       "    </tr>\n",
       "    <tr>\n",
       "      <th>3</th>\n",
       "      <td>female</td>\n",
       "      <td>afam</td>\n",
       "      <td>high</td>\n",
       "      <td>no</td>\n",
       "      <td>chicago</td>\n",
       "      <td>4</td>\n",
       "      <td>6</td>\n",
       "      <td>no</td>\n",
       "      <td>yes</td>\n",
       "      <td>no</td>\n",
       "      <td>...</td>\n",
       "      <td>5</td>\n",
       "      <td>yes</td>\n",
       "      <td>supervisor</td>\n",
       "      <td>yes</td>\n",
       "      <td>yes</td>\n",
       "      <td>no</td>\n",
       "      <td>no</td>\n",
       "      <td>yes</td>\n",
       "      <td>no</td>\n",
       "      <td>manufacturing</td>\n",
       "    </tr>\n",
       "    <tr>\n",
       "      <th>4</th>\n",
       "      <td>female</td>\n",
       "      <td>cauc</td>\n",
       "      <td>high</td>\n",
       "      <td>no</td>\n",
       "      <td>chicago</td>\n",
       "      <td>3</td>\n",
       "      <td>22</td>\n",
       "      <td>no</td>\n",
       "      <td>no</td>\n",
       "      <td>no</td>\n",
       "      <td>...</td>\n",
       "      <td>some</td>\n",
       "      <td>yes</td>\n",
       "      <td>secretary</td>\n",
       "      <td>yes</td>\n",
       "      <td>yes</td>\n",
       "      <td>no</td>\n",
       "      <td>no</td>\n",
       "      <td>yes</td>\n",
       "      <td>yes</td>\n",
       "      <td>health/education/social services</td>\n",
       "    </tr>\n",
       "  </tbody>\n",
       "</table>\n",
       "<p>5 rows × 26 columns</p>\n",
       "</div>"
      ],
      "text/plain": [
       "   gender ethnicity quality call     city  jobs  experience honors volunteer  \\\n",
       "0  female      cauc     low   no  chicago     2           6     no        no   \n",
       "1  female      cauc    high   no  chicago     3           6     no       yes   \n",
       "2  female      afam     low   no  chicago     1           6     no        no   \n",
       "3  female      afam    high   no  chicago     4           6     no       yes   \n",
       "4  female      cauc    high   no  chicago     3          22     no        no   \n",
       "\n",
       "  military  ... minimum equal      wanted requirements reqexp reqcomm reqeduc  \\\n",
       "0       no  ...       5   yes  supervisor          yes    yes      no      no   \n",
       "1      yes  ...       5   yes  supervisor          yes    yes      no      no   \n",
       "2       no  ...       5   yes  supervisor          yes    yes      no      no   \n",
       "3       no  ...       5   yes  supervisor          yes    yes      no      no   \n",
       "4       no  ...    some   yes   secretary          yes    yes      no      no   \n",
       "\n",
       "  reqcomp reqorg                          industry  \n",
       "0     yes     no                     manufacturing  \n",
       "1     yes     no                     manufacturing  \n",
       "2     yes     no                     manufacturing  \n",
       "3     yes     no                     manufacturing  \n",
       "4     yes    yes  health/education/social services  \n",
       "\n",
       "[5 rows x 26 columns]"
      ]
     },
     "execution_count": 5,
     "metadata": {},
     "output_type": "execute_result"
    }
   ],
   "source": [
    "#remove name variable\n",
    "data = data.iloc[:,1:] #ignore column 0\n",
    "data.head()"
   ]
  },
  {
   "cell_type": "code",
   "execution_count": 6,
   "metadata": {
    "colab": {
     "base_uri": "https://localhost:8080/"
    },
    "executionInfo": {
     "elapsed": 303,
     "status": "ok",
     "timestamp": 1627366786533,
     "user": {
      "displayName": "Diogo Resende",
      "photoUrl": "https://lh3.googleusercontent.com/a-/AOh14GgH4DE06-yE1oiIzCiaAURCl1Escr4LXXiaSnbSaA=s64",
      "userId": "05706604408624562002"
     },
     "user_tz": -120
    },
    "id": "ts3TSQ35yAJG",
    "outputId": "2f94e3d9-7d2d-4386-96ef-c2ccaea5f085"
   },
   "outputs": [
    {
     "data": {
      "text/plain": [
       "gender           2\n",
       "ethnicity        2\n",
       "quality          2\n",
       "call             2\n",
       "city             2\n",
       "jobs             7\n",
       "experience      26\n",
       "honors           2\n",
       "volunteer        2\n",
       "military         2\n",
       "holes            2\n",
       "school           2\n",
       "email            2\n",
       "computer         2\n",
       "special          2\n",
       "college          2\n",
       "minimum         13\n",
       "equal            2\n",
       "wanted           6\n",
       "requirements     2\n",
       "reqexp           2\n",
       "reqcomm          2\n",
       "reqeduc          2\n",
       "reqcomp          2\n",
       "reqorg           2\n",
       "industry         7\n",
       "dtype: int64"
      ]
     },
     "execution_count": 6,
     "metadata": {},
     "output_type": "execute_result"
    }
   ],
   "source": [
    "#find unique values per variable. Por instance, experience have 26 answers\n",
    "data.apply(pd.Series.nunique)"
   ]
  },
  {
   "cell_type": "code",
   "execution_count": 7,
   "metadata": {},
   "outputs": [
    {
     "data": {
      "text/plain": [
       "female    3746\n",
       "male      1124\n",
       "Name: gender, dtype: int64"
      ]
     },
     "execution_count": 7,
     "metadata": {},
     "output_type": "execute_result"
    }
   ],
   "source": [
    "#Check categories with value_counts() \n",
    "data.gender.value_counts()"
   ]
  },
  {
   "cell_type": "code",
   "execution_count": 8,
   "metadata": {
    "colab": {
     "base_uri": "https://localhost:8080/"
    },
    "executionInfo": {
     "elapsed": 188,
     "status": "ok",
     "timestamp": 1627366790524,
     "user": {
      "displayName": "Diogo Resende",
      "photoUrl": "https://lh3.googleusercontent.com/a-/AOh14GgH4DE06-yE1oiIzCiaAURCl1Escr4LXXiaSnbSaA=s64",
      "userId": "05706604408624562002"
     },
     "user_tz": -120
    },
    "id": "MtyC14iZygMI",
    "outputId": "ddd9e2aa-cd79-47a7-ffa9-5062aac79004"
   },
   "outputs": [
    {
     "data": {
      "text/plain": [
       "gender          object\n",
       "ethnicity       object\n",
       "quality         object\n",
       "call            object\n",
       "city            object\n",
       "jobs             int64\n",
       "experience       int64\n",
       "honors          object\n",
       "volunteer       object\n",
       "military        object\n",
       "holes           object\n",
       "school          object\n",
       "email           object\n",
       "computer        object\n",
       "special         object\n",
       "college         object\n",
       "minimum         object\n",
       "equal           object\n",
       "wanted          object\n",
       "requirements    object\n",
       "reqexp          object\n",
       "reqcomm         object\n",
       "reqeduc         object\n",
       "reqcomp         object\n",
       "reqorg          object\n",
       "industry        object\n",
       "dtype: object"
      ]
     },
     "execution_count": 8,
     "metadata": {},
     "output_type": "execute_result"
    }
   ],
   "source": [
    "data.dtypes"
   ]
  },
  {
   "cell_type": "markdown",
   "metadata": {
    "id": "lCi2kFwUzVlP"
   },
   "source": [
    "a. Transforming numeric variables"
   ]
  },
  {
   "cell_type": "markdown",
   "metadata": {},
   "source": [
    "**jobs**"
   ]
  },
  {
   "cell_type": "code",
   "execution_count": 9,
   "metadata": {
    "colab": {
     "base_uri": "https://localhost:8080/",
     "height": 297
    },
    "executionInfo": {
     "elapsed": 858,
     "status": "ok",
     "timestamp": 1627366794532,
     "user": {
      "displayName": "Diogo Resende",
      "photoUrl": "https://lh3.googleusercontent.com/a-/AOh14GgH4DE06-yE1oiIzCiaAURCl1Escr4LXXiaSnbSaA=s64",
      "userId": "05706604408624562002"
     },
     "user_tz": -120
    },
    "id": "QFPk9gF0zZNo",
    "outputId": "c6a4074e-ed0a-40ef-ee1d-c1c458db6da0"
   },
   "outputs": [
    {
     "data": {
      "text/plain": [
       "<AxesSubplot:xlabel='jobs', ylabel='Density'>"
      ]
     },
     "execution_count": 9,
     "metadata": {},
     "output_type": "execute_result"
    },
    {
     "data": {
      "image/png": "[encoded data removed]",
      "text/plain": [
       "<Figure size 640x480 with 1 Axes>"
      ]
     },
     "metadata": {},
     "output_type": "display_data"
    }
   ],
   "source": [
    "#visualize jobs variable\n",
    "import seaborn as sns\n",
    "sns.set_style('whitegrid')\n",
    "sns.kdeplot(data.jobs)"
   ]
  },
  {
   "cell_type": "code",
   "execution_count": 10,
   "metadata": {
    "colab": {
     "base_uri": "https://localhost:8080/"
    },
    "executionInfo": {
     "elapsed": 346,
     "status": "ok",
     "timestamp": 1627366797748,
     "user": {
      "displayName": "Diogo Resende",
      "photoUrl": "https://lh3.googleusercontent.com/a-/AOh14GgH4DE06-yE1oiIzCiaAURCl1Escr4LXXiaSnbSaA=s64",
      "userId": "05706604408624562002"
     },
     "user_tz": -120
    },
    "id": "EYcIjymP0Fkr",
    "outputId": "d0527325-a8a1-423b-9c82-a82c94a0c541"
   },
   "outputs": [
    {
     "data": {
      "text/plain": [
       "0       0\n",
       "1       1\n",
       "2       0\n",
       "3       1\n",
       "4       1\n",
       "       ..\n",
       "4865    0\n",
       "4866    1\n",
       "4867    2\n",
       "4868    1\n",
       "4869    1\n",
       "Name: jobs, Length: 4870, dtype: category\n",
       "Categories (3, int64): [0 < 1 < 2]"
      ]
     },
     "execution_count": 10,
     "metadata": {},
     "output_type": "execute_result"
    }
   ],
   "source": [
    "#transform jobs variable\n",
    "data.jobs = pd.cut(x = data.jobs,          ##Use cut when you need to segment and sort data values into bins\n",
    "                   bins = [-1, 2.9,4.9,9], ##from-1to2.9 (=1,2), from+2.91to4.9 (=3,4), from+4.91to9 (=5,6,7,8)\n",
    "                   labels = [0,1,2])\n",
    "data.jobs"
   ]
  },
  {
   "cell_type": "code",
   "execution_count": 11,
   "metadata": {},
   "outputs": [
    {
     "data": {
      "text/plain": [
       "0       0\n",
       "1       1\n",
       "2       0\n",
       "3       1\n",
       "4       1\n",
       "       ..\n",
       "4865    0\n",
       "4866    1\n",
       "4867    2\n",
       "4868    1\n",
       "4869    1\n",
       "Name: jobs, Length: 4870, dtype: int64"
      ]
     },
     "execution_count": 11,
     "metadata": {},
     "output_type": "execute_result"
    }
   ],
   "source": [
    "data.jobs = pd.factorize(data.jobs)[0]### just keep element 0\n",
    "data.jobs\n"
   ]
  },
  {
   "cell_type": "code",
   "execution_count": 12,
   "metadata": {},
   "outputs": [
    {
     "data": {
      "text/plain": [
       "array([0, 1, 0, ..., 2, 1, 1], dtype=int64)"
      ]
     },
     "execution_count": 12,
     "metadata": {},
     "output_type": "execute_result"
    }
   ],
   "source": [
    "# alternatively\n",
    "codes, uniques = pd.factorize(data.jobs)\n",
    "codes"
   ]
  },
  {
   "cell_type": "code",
   "execution_count": 13,
   "metadata": {},
   "outputs": [
    {
     "data": {
      "text/plain": [
       "Int64Index([0, 1, 2], dtype='int64')"
      ]
     },
     "execution_count": 13,
     "metadata": {},
     "output_type": "execute_result"
    }
   ],
   "source": [
    "uniques"
   ]
  },
  {
   "cell_type": "markdown",
   "metadata": {},
   "source": [
    "**Experience**"
   ]
  },
  {
   "cell_type": "code",
   "execution_count": 14,
   "metadata": {
    "colab": {
     "base_uri": "https://localhost:8080/",
     "height": 300
    },
    "executionInfo": {
     "elapsed": 896,
     "status": "ok",
     "timestamp": 1627366805170,
     "user": {
      "displayName": "Diogo Resende",
      "photoUrl": "https://lh3.googleusercontent.com/a-/AOh14GgH4DE06-yE1oiIzCiaAURCl1Escr4LXXiaSnbSaA=s64",
      "userId": "05706604408624562002"
     },
     "user_tz": -120
    },
    "id": "Ep9ZVF7E8h6I",
    "outputId": "23f77d3c-4f00-4b58-bc60-96b3611f4314"
   },
   "outputs": [
    {
     "data": {
      "text/plain": [
       "<AxesSubplot:xlabel='experience', ylabel='Density'>"
      ]
     },
     "execution_count": 14,
     "metadata": {},
     "output_type": "execute_result"
    },
    {
     "data": {
      "image/png": "[encoded data removed]",
      "text/plain": [
       "<Figure size 640x480 with 1 Axes>"
      ]
     },
     "metadata": {},
     "output_type": "display_data"
    }
   ],
   "source": [
    "#visualize experience variable\n",
    "sns.set_style('whitegrid')\n",
    "sns.kdeplot(data.experience)"
   ]
  },
  {
   "cell_type": "code",
   "execution_count": 15,
   "metadata": {
    "colab": {
     "base_uri": "https://localhost:8080/"
    },
    "executionInfo": {
     "elapsed": 199,
     "status": "ok",
     "timestamp": 1627366808656,
     "user": {
      "displayName": "Diogo Resende",
      "photoUrl": "https://lh3.googleusercontent.com/a-/AOh14GgH4DE06-yE1oiIzCiaAURCl1Escr4LXXiaSnbSaA=s64",
      "userId": "05706604408624562002"
     },
     "user_tz": -120
    },
    "id": "EbrdT4Rn80rb",
    "outputId": "3bf9668e-676c-4dba-9174-85de134cda04"
   },
   "outputs": [
    {
     "data": {
      "text/plain": [
       "0       0\n",
       "1       0\n",
       "2       0\n",
       "3       0\n",
       "4       1\n",
       "       ..\n",
       "4865    2\n",
       "4866    0\n",
       "4867    0\n",
       "4868    2\n",
       "4869    0\n",
       "Name: experience, Length: 4870, dtype: int64"
      ]
     },
     "execution_count": 15,
     "metadata": {},
     "output_type": "execute_result"
    }
   ],
   "source": [
    "#transform experience variable\n",
    "data.experience = pd.qcut(x = data.experience, #x=serie, qcut for continuous variable\n",
    "                   q = 3,     ##Number of quantiles. 10 for deciles, 4 for quartiles, etc.  \n",
    "                   labels = [0,1,2])\n",
    "data.experience = pd.factorize(data.experience)[0]\n",
    "data.experience"
   ]
  },
  {
   "cell_type": "markdown",
   "metadata": {
    "id": "g1_WgxzE9_9k"
   },
   "source": [
    "**Minimum and remaining variables**"
   ]
  },
  {
   "cell_type": "code",
   "execution_count": 16,
   "metadata": {
    "colab": {
     "base_uri": "https://localhost:8080/"
    },
    "executionInfo": {
     "elapsed": 179,
     "status": "ok",
     "timestamp": 1627366812943,
     "user": {
      "displayName": "Diogo Resende",
      "photoUrl": "https://lh3.googleusercontent.com/a-/AOh14GgH4DE06-yE1oiIzCiaAURCl1Escr4LXXiaSnbSaA=s64",
      "userId": "05706604408624562002"
     },
     "user_tz": -120
    },
    "id": "jajh1vhF-Dfu",
    "outputId": "9e103fe5-a4cf-419f-c3f6-e9dc57bd12ac"
   },
   "outputs": [
    {
     "data": {
      "text/plain": [
       "none    2746\n",
       "some    1064\n",
       "2        356\n",
       "3        331\n",
       "5        163\n",
       "1        142\n",
       "10        18\n",
       "7         12\n",
       "8         10\n",
       "0.5        8\n",
       "4          8\n",
       "6          8\n",
       "0          4\n",
       "Name: minimum, dtype: int64"
      ]
     },
     "execution_count": 16,
     "metadata": {},
     "output_type": "execute_result"
    }
   ],
   "source": [
    "#Minimum variable\n",
    "data.minimum.value_counts()"
   ]
  },
  {
   "cell_type": "code",
   "execution_count": 17,
   "metadata": {
    "colab": {
     "base_uri": "https://localhost:8080/"
    },
    "executionInfo": {
     "elapsed": 183,
     "status": "ok",
     "timestamp": 1627366815795,
     "user": {
      "displayName": "Diogo Resende",
      "photoUrl": "https://lh3.googleusercontent.com/a-/AOh14GgH4DE06-yE1oiIzCiaAURCl1Escr4LXXiaSnbSaA=s64",
      "userId": "05706604408624562002"
     },
     "user_tz": -120
    },
    "id": "RJxlRoq--f8W",
    "outputId": "ffe3a9e0-4782-4a7e-8ece-1487abb4b721"
   },
   "outputs": [
    {
     "data": {
      "text/plain": [
       "0       3\n",
       "1       3\n",
       "2       3\n",
       "3       3\n",
       "4       2\n",
       "       ..\n",
       "4865    0\n",
       "4866    0\n",
       "4867    0\n",
       "4868    0\n",
       "4869    0\n",
       "Name: minimum, Length: 4870, dtype: int64"
      ]
     },
     "execution_count": 17,
     "metadata": {},
     "output_type": "execute_result"
    }
   ],
   "source": [
    "#Transform minimum variable\n",
    "replacement_dictionary = {'none': 0,\n",
    "                          '0': 0,\n",
    "                          '0.5': 0,\n",
    "                          '1': 1,\n",
    "                          '2': 1,\n",
    "                          'some': 2,\n",
    "                          '3': 2,\n",
    "                          '4': 2,\n",
    "                          '5': 3,\n",
    "                          '6': 3,\n",
    "                          '7': 3,\n",
    "                          '8': 3,\n",
    "                          '10': 3}\n",
    "data['minimum'] = data['minimum'].replace(replacement_dictionary)\n",
    "data.minimum                       "
   ]
  },
  {
   "cell_type": "code",
   "execution_count": 18,
   "metadata": {
    "colab": {
     "base_uri": "https://localhost:8080/",
     "height": 240
    },
    "executionInfo": {
     "elapsed": 190,
     "status": "ok",
     "timestamp": 1627366820142,
     "user": {
      "displayName": "Diogo Resende",
      "photoUrl": "https://lh3.googleusercontent.com/a-/AOh14GgH4DE06-yE1oiIzCiaAURCl1Escr4LXXiaSnbSaA=s64",
      "userId": "05706604408624562002"
     },
     "user_tz": -120
    },
    "id": "rZPZl5y2_--G",
    "outputId": "7361715e-25c7-4b68-d404-dadae9c02153"
   },
   "outputs": [
    {
     "data": {
      "text/html": [
       "<div>\n",
       "<style scoped>\n",
       "    .dataframe tbody tr th:only-of-type {\n",
       "        vertical-align: middle;\n",
       "    }\n",
       "\n",
       "    .dataframe tbody tr th {\n",
       "        vertical-align: top;\n",
       "    }\n",
       "\n",
       "    .dataframe thead th {\n",
       "        text-align: right;\n",
       "    }\n",
       "</style>\n",
       "<table border=\"1\" class=\"dataframe\">\n",
       "  <thead>\n",
       "    <tr style=\"text-align: right;\">\n",
       "      <th></th>\n",
       "      <th>jobs</th>\n",
       "      <th>experience</th>\n",
       "      <th>minimum</th>\n",
       "      <th>gender_male</th>\n",
       "      <th>ethnicity_cauc</th>\n",
       "      <th>quality_low</th>\n",
       "      <th>call_yes</th>\n",
       "      <th>city_chicago</th>\n",
       "      <th>honors_yes</th>\n",
       "      <th>volunteer_yes</th>\n",
       "      <th>...</th>\n",
       "      <th>reqcomm_yes</th>\n",
       "      <th>reqeduc_yes</th>\n",
       "      <th>reqcomp_yes</th>\n",
       "      <th>reqorg_yes</th>\n",
       "      <th>industry_finance/insurance/real estate</th>\n",
       "      <th>industry_health/education/social services</th>\n",
       "      <th>industry_manufacturing</th>\n",
       "      <th>industry_trade</th>\n",
       "      <th>industry_transport/communication</th>\n",
       "      <th>industry_unknown</th>\n",
       "    </tr>\n",
       "  </thead>\n",
       "  <tbody>\n",
       "    <tr>\n",
       "      <th>0</th>\n",
       "      <td>0</td>\n",
       "      <td>0</td>\n",
       "      <td>3</td>\n",
       "      <td>0</td>\n",
       "      <td>1</td>\n",
       "      <td>1</td>\n",
       "      <td>0</td>\n",
       "      <td>1</td>\n",
       "      <td>0</td>\n",
       "      <td>0</td>\n",
       "      <td>...</td>\n",
       "      <td>0</td>\n",
       "      <td>0</td>\n",
       "      <td>1</td>\n",
       "      <td>0</td>\n",
       "      <td>0</td>\n",
       "      <td>0</td>\n",
       "      <td>1</td>\n",
       "      <td>0</td>\n",
       "      <td>0</td>\n",
       "      <td>0</td>\n",
       "    </tr>\n",
       "    <tr>\n",
       "      <th>1</th>\n",
       "      <td>1</td>\n",
       "      <td>0</td>\n",
       "      <td>3</td>\n",
       "      <td>0</td>\n",
       "      <td>1</td>\n",
       "      <td>0</td>\n",
       "      <td>0</td>\n",
       "      <td>1</td>\n",
       "      <td>0</td>\n",
       "      <td>1</td>\n",
       "      <td>...</td>\n",
       "      <td>0</td>\n",
       "      <td>0</td>\n",
       "      <td>1</td>\n",
       "      <td>0</td>\n",
       "      <td>0</td>\n",
       "      <td>0</td>\n",
       "      <td>1</td>\n",
       "      <td>0</td>\n",
       "      <td>0</td>\n",
       "      <td>0</td>\n",
       "    </tr>\n",
       "    <tr>\n",
       "      <th>2</th>\n",
       "      <td>0</td>\n",
       "      <td>0</td>\n",
       "      <td>3</td>\n",
       "      <td>0</td>\n",
       "      <td>0</td>\n",
       "      <td>1</td>\n",
       "      <td>0</td>\n",
       "      <td>1</td>\n",
       "      <td>0</td>\n",
       "      <td>0</td>\n",
       "      <td>...</td>\n",
       "      <td>0</td>\n",
       "      <td>0</td>\n",
       "      <td>1</td>\n",
       "      <td>0</td>\n",
       "      <td>0</td>\n",
       "      <td>0</td>\n",
       "      <td>1</td>\n",
       "      <td>0</td>\n",
       "      <td>0</td>\n",
       "      <td>0</td>\n",
       "    </tr>\n",
       "    <tr>\n",
       "      <th>3</th>\n",
       "      <td>1</td>\n",
       "      <td>0</td>\n",
       "      <td>3</td>\n",
       "      <td>0</td>\n",
       "      <td>0</td>\n",
       "      <td>0</td>\n",
       "      <td>0</td>\n",
       "      <td>1</td>\n",
       "      <td>0</td>\n",
       "      <td>1</td>\n",
       "      <td>...</td>\n",
       "      <td>0</td>\n",
       "      <td>0</td>\n",
       "      <td>1</td>\n",
       "      <td>0</td>\n",
       "      <td>0</td>\n",
       "      <td>0</td>\n",
       "      <td>1</td>\n",
       "      <td>0</td>\n",
       "      <td>0</td>\n",
       "      <td>0</td>\n",
       "    </tr>\n",
       "    <tr>\n",
       "      <th>4</th>\n",
       "      <td>1</td>\n",
       "      <td>1</td>\n",
       "      <td>2</td>\n",
       "      <td>0</td>\n",
       "      <td>1</td>\n",
       "      <td>0</td>\n",
       "      <td>0</td>\n",
       "      <td>1</td>\n",
       "      <td>0</td>\n",
       "      <td>0</td>\n",
       "      <td>...</td>\n",
       "      <td>0</td>\n",
       "      <td>0</td>\n",
       "      <td>1</td>\n",
       "      <td>1</td>\n",
       "      <td>0</td>\n",
       "      <td>1</td>\n",
       "      <td>0</td>\n",
       "      <td>0</td>\n",
       "      <td>0</td>\n",
       "      <td>0</td>\n",
       "    </tr>\n",
       "  </tbody>\n",
       "</table>\n",
       "<p>5 rows × 35 columns</p>\n",
       "</div>"
      ],
      "text/plain": [
       "   jobs  experience  minimum  gender_male  ethnicity_cauc  quality_low  \\\n",
       "0     0           0        3            0               1            1   \n",
       "1     1           0        3            0               1            0   \n",
       "2     0           0        3            0               0            1   \n",
       "3     1           0        3            0               0            0   \n",
       "4     1           1        2            0               1            0   \n",
       "\n",
       "   call_yes  city_chicago  honors_yes  volunteer_yes  ...  reqcomm_yes  \\\n",
       "0         0             1           0              0  ...            0   \n",
       "1         0             1           0              1  ...            0   \n",
       "2         0             1           0              0  ...            0   \n",
       "3         0             1           0              1  ...            0   \n",
       "4         0             1           0              0  ...            0   \n",
       "\n",
       "   reqeduc_yes  reqcomp_yes  reqorg_yes  \\\n",
       "0            0            1           0   \n",
       "1            0            1           0   \n",
       "2            0            1           0   \n",
       "3            0            1           0   \n",
       "4            0            1           1   \n",
       "\n",
       "   industry_finance/insurance/real estate  \\\n",
       "0                                       0   \n",
       "1                                       0   \n",
       "2                                       0   \n",
       "3                                       0   \n",
       "4                                       0   \n",
       "\n",
       "   industry_health/education/social services  industry_manufacturing  \\\n",
       "0                                          0                       1   \n",
       "1                                          0                       1   \n",
       "2                                          0                       1   \n",
       "3                                          0                       1   \n",
       "4                                          1                       0   \n",
       "\n",
       "   industry_trade  industry_transport/communication  industry_unknown  \n",
       "0               0                                 0                 0  \n",
       "1               0                                 0                 0  \n",
       "2               0                                 0                 0  \n",
       "3               0                                 0                 0  \n",
       "4               0                                 0                 0  \n",
       "\n",
       "[5 rows x 35 columns]"
      ]
     },
     "execution_count": 18,
     "metadata": {},
     "output_type": "execute_result"
    }
   ],
   "source": [
    "#transforming remaining variables\n",
    "data = pd.get_dummies(data, drop_first = True)\n",
    "data.head()"
   ]
  },
  {
   "cell_type": "markdown",
   "metadata": {},
   "source": [
    "### 2. CHAID MODEL"
   ]
  },
  {
   "cell_type": "code",
   "execution_count": 19,
   "metadata": {
    "colab": {
     "base_uri": "https://localhost:8080/",
     "height": 35
    },
    "executionInfo": {
     "elapsed": 195,
     "status": "ok",
     "timestamp": 1627366825655,
     "user": {
      "displayName": "Diogo Resende",
      "photoUrl": "https://lh3.googleusercontent.com/a-/AOh14GgH4DE06-yE1oiIzCiaAURCl1Escr4LXXiaSnbSaA=s64",
      "userId": "05706604408624562002"
     },
     "user_tz": -120
    },
    "id": "MS3NfcG-Alka",
    "outputId": "8c81f5c5-be03-4aef-af47-e66dd5577d78"
   },
   "outputs": [
    {
     "data": {
      "text/plain": [
       "'call_yes'"
      ]
     },
     "execution_count": 19,
     "metadata": {},
     "output_type": "execute_result"
    }
   ],
   "source": [
    "#get y name\n",
    "y_name = data.call_yes.name\n",
    "y_name"
   ]
  },
  {
   "cell_type": "code",
   "execution_count": 20,
   "metadata": {
    "colab": {
     "base_uri": "https://localhost:8080/"
    },
    "executionInfo": {
     "elapsed": 186,
     "status": "ok",
     "timestamp": 1627366827728,
     "user": {
      "displayName": "Diogo Resende",
      "photoUrl": "https://lh3.googleusercontent.com/a-/AOh14GgH4DE06-yE1oiIzCiaAURCl1Escr4LXXiaSnbSaA=s64",
      "userId": "05706604408624562002"
     },
     "user_tz": -120
    },
    "id": "vwB7NPWPA0CE",
    "outputId": "793ea0d2-b559-4e80-d5c6-3fee53fc6ac8"
   },
   "outputs": [
    {
     "name": "stdout",
     "output_type": "stream",
     "text": [
      "Index(['jobs', 'experience', 'minimum', 'gender_male', 'ethnicity_cauc',\n",
      "       'quality_low', 'city_chicago', 'honors_yes', 'volunteer_yes',\n",
      "       'military_yes', 'holes_yes', 'school_yes', 'email_yes', 'computer_yes',\n",
      "       'special_yes', 'college_yes', 'equal_yes', 'wanted_office support',\n",
      "       'wanted_other', 'wanted_retail sales', 'wanted_secretary',\n",
      "       'wanted_supervisor', 'requirements_yes', 'reqexp_yes', 'reqcomm_yes',\n",
      "       'reqeduc_yes', 'reqcomp_yes', 'reqorg_yes',\n",
      "       'industry_finance/insurance/real estate',\n",
      "       'industry_health/education/social services', 'industry_manufacturing',\n",
      "       'industry_trade', 'industry_transport/communication',\n",
      "       'industry_unknown'],\n",
      "      dtype='object')\n",
      "34\n"
     ]
    }
   ],
   "source": [
    "#Get IV names\n",
    "X_names = data.drop(columns = 'call_yes').columns\n",
    "print(X_names)\n",
    "print(len(X_names))"
   ]
  },
  {
   "cell_type": "code",
   "execution_count": 21,
   "metadata": {
    "executionInfo": {
     "elapsed": 287,
     "status": "ok",
     "timestamp": 1627366832054,
     "user": {
      "displayName": "Diogo Resende",
      "photoUrl": "https://lh3.googleusercontent.com/a-/AOh14GgH4DE06-yE1oiIzCiaAURCl1Escr4LXXiaSnbSaA=s64",
      "userId": "05706604408624562002"
     },
     "user_tz": -120
    },
    "id": "D2C803WxBwQk"
   },
   "outputs": [],
   "source": [
    "#CHAID tree\n",
    "model = Tree.from_pandas_df(data,\n",
    "                            dict(zip(X_names, \n",
    "                                     ['ordinal']*3 + ['nominal'] * 31)),\n",
    "                            y_name,\n",
    "                            max_depth = 3,\n",
    "                            min_child_node_size = 250)"
   ]
  },
  {
   "cell_type": "markdown",
   "metadata": {
    "id": "6in6a7yTJlvT"
   },
   "source": [
    "#Visualization"
   ]
  },
  {
   "cell_type": "code",
   "execution_count": null,
   "metadata": {},
   "outputs": [],
   "source": [
    "!pip install -U kaleido"
   ]
  },
  {
   "cell_type": "code",
   "execution_count": 22,
   "metadata": {
    "id": "27mtKLJ6JpFA"
   },
   "outputs": [],
   "source": [
    "#import libraries\n",
    "import orca\n",
    "import plotly\n",
    "import plotly.graph_objects as go"
   ]
  },
  {
   "cell_type": "code",
   "execution_count": 24,
   "metadata": {
    "id": "sag7e17mJvDZ"
   },
   "outputs": [
    {
     "ename": "OSError",
     "evalue": "[Errno 22] Invalid argument: 'trees\\\\2023-02-25 14:38:45.gv'",
     "output_type": "error",
     "traceback": [
      "\u001b[1;31m---------------------------------------------------------------------------\u001b[0m",
      "\u001b[1;31mOSError\u001b[0m                                   Traceback (most recent call last)",
      "\u001b[1;32m~\\AppData\\Local\\Temp\\ipykernel_16572\\4046789087.py\u001b[0m in \u001b[0;36m<module>\u001b[1;34m\u001b[0m\n\u001b[1;32m----> 1\u001b[1;33m model.render(path =None,\n\u001b[0m\u001b[0;32m      2\u001b[0m              view = None)\n",
      "\u001b[1;32m~\\anaconda3\\lib\\site-packages\\CHAID\\tree.py\u001b[0m in \u001b[0;36mrender\u001b[1;34m(self, path, view)\u001b[0m\n\u001b[0;32m    289\u001b[0m \u001b[1;33m\u001b[0m\u001b[0m\n\u001b[0;32m    290\u001b[0m     \u001b[1;32mdef\u001b[0m \u001b[0mrender\u001b[0m\u001b[1;33m(\u001b[0m\u001b[0mself\u001b[0m\u001b[1;33m,\u001b[0m \u001b[0mpath\u001b[0m\u001b[1;33m=\u001b[0m\u001b[1;32mNone\u001b[0m\u001b[1;33m,\u001b[0m \u001b[0mview\u001b[0m\u001b[1;33m=\u001b[0m\u001b[1;32mFalse\u001b[0m\u001b[1;33m)\u001b[0m\u001b[1;33m:\u001b[0m\u001b[1;33m\u001b[0m\u001b[1;33m\u001b[0m\u001b[0m\n\u001b[1;32m--> 291\u001b[1;33m         \u001b[0mGraph\u001b[0m\u001b[1;33m(\u001b[0m\u001b[0mself\u001b[0m\u001b[1;33m)\u001b[0m\u001b[1;33m.\u001b[0m\u001b[0mrender\u001b[0m\u001b[1;33m(\u001b[0m\u001b[0mpath\u001b[0m\u001b[1;33m,\u001b[0m \u001b[0mview\u001b[0m\u001b[1;33m)\u001b[0m\u001b[1;33m\u001b[0m\u001b[1;33m\u001b[0m\u001b[0m\n\u001b[0m",
      "\u001b[1;32m~\\anaconda3\\lib\\site-packages\\CHAID\\graph.py\u001b[0m in \u001b[0;36mrender\u001b[1;34m(self, path, view)\u001b[0m\n\u001b[0;32m     75\u001b[0m                     \u001b[0medge_label\u001b[0m \u001b[1;33m=\u001b[0m \u001b[1;34m\"     ({})     \\n \"\u001b[0m\u001b[1;33m.\u001b[0m\u001b[0mformat\u001b[0m\u001b[1;33m(\u001b[0m\u001b[1;34m', '\u001b[0m\u001b[1;33m.\u001b[0m\u001b[0mjoin\u001b[0m\u001b[1;33m(\u001b[0m\u001b[0mmap\u001b[0m\u001b[1;33m(\u001b[0m\u001b[0mstr\u001b[0m\u001b[1;33m,\u001b[0m \u001b[0mnode\u001b[0m\u001b[1;33m.\u001b[0m\u001b[0mchoices\u001b[0m\u001b[1;33m)\u001b[0m\u001b[1;33m)\u001b[0m\u001b[1;33m)\u001b[0m\u001b[1;33m\u001b[0m\u001b[1;33m\u001b[0m\u001b[0m\n\u001b[0;32m     76\u001b[0m                     \u001b[0mg\u001b[0m\u001b[1;33m.\u001b[0m\u001b[0medge\u001b[0m\u001b[1;33m(\u001b[0m\u001b[0mstr\u001b[0m\u001b[1;33m(\u001b[0m\u001b[0mnode\u001b[0m\u001b[1;33m.\u001b[0m\u001b[0mparent\u001b[0m\u001b[1;33m)\u001b[0m\u001b[1;33m,\u001b[0m \u001b[0mstr\u001b[0m\u001b[1;33m(\u001b[0m\u001b[0mnode\u001b[0m\u001b[1;33m.\u001b[0m\u001b[0mnode_id\u001b[0m\u001b[1;33m)\u001b[0m\u001b[1;33m,\u001b[0m \u001b[0mxlabel\u001b[0m\u001b[1;33m=\u001b[0m\u001b[0medge_label\u001b[0m\u001b[1;33m)\u001b[0m\u001b[1;33m\u001b[0m\u001b[1;33m\u001b[0m\u001b[0m\n\u001b[1;32m---> 77\u001b[1;33m             \u001b[0mg\u001b[0m\u001b[1;33m.\u001b[0m\u001b[0mrender\u001b[0m\u001b[1;33m(\u001b[0m\u001b[0mpath\u001b[0m\u001b[1;33m,\u001b[0m \u001b[0mview\u001b[0m\u001b[1;33m=\u001b[0m\u001b[0mview\u001b[0m\u001b[1;33m)\u001b[0m\u001b[1;33m\u001b[0m\u001b[1;33m\u001b[0m\u001b[0m\n\u001b[0m\u001b[0;32m     78\u001b[0m \u001b[1;33m\u001b[0m\u001b[0m\n\u001b[0;32m     79\u001b[0m     \u001b[1;32mdef\u001b[0m \u001b[0mbar_chart\u001b[0m\u001b[1;33m(\u001b[0m\u001b[0mself\u001b[0m\u001b[1;33m,\u001b[0m \u001b[0mnode\u001b[0m\u001b[1;33m)\u001b[0m\u001b[1;33m:\u001b[0m\u001b[1;33m\u001b[0m\u001b[1;33m\u001b[0m\u001b[0m\n",
      "\u001b[1;32m~\\anaconda3\\lib\\site-packages\\graphviz\\_tools.py\u001b[0m in \u001b[0;36mwrapper\u001b[1;34m(*args, **kwargs)\u001b[0m\n\u001b[0;32m    169\u001b[0m                               category=category)\n\u001b[0;32m    170\u001b[0m \u001b[1;33m\u001b[0m\u001b[0m\n\u001b[1;32m--> 171\u001b[1;33m             \u001b[1;32mreturn\u001b[0m \u001b[0mfunc\u001b[0m\u001b[1;33m(\u001b[0m\u001b[1;33m*\u001b[0m\u001b[0margs\u001b[0m\u001b[1;33m,\u001b[0m \u001b[1;33m**\u001b[0m\u001b[0mkwargs\u001b[0m\u001b[1;33m)\u001b[0m\u001b[1;33m\u001b[0m\u001b[1;33m\u001b[0m\u001b[0m\n\u001b[0m\u001b[0;32m    172\u001b[0m \u001b[1;33m\u001b[0m\u001b[0m\n\u001b[0;32m    173\u001b[0m         \u001b[1;32mreturn\u001b[0m \u001b[0mwrapper\u001b[0m\u001b[1;33m\u001b[0m\u001b[1;33m\u001b[0m\u001b[0m\n",
      "\u001b[1;32m~\\anaconda3\\lib\\site-packages\\graphviz\\rendering.py\u001b[0m in \u001b[0;36mrender\u001b[1;34m(self, filename, directory, view, cleanup, format, renderer, formatter, neato_no_op, quiet, quiet_view, outfile, engine, raise_if_result_exists, overwrite_source)\u001b[0m\n\u001b[0;32m    116\u001b[0m             \u001b[0mfilename\u001b[0m \u001b[1;33m=\u001b[0m \u001b[0mself\u001b[0m\u001b[1;33m.\u001b[0m\u001b[0m_get_filepath\u001b[0m\u001b[1;33m(\u001b[0m\u001b[0moutfile\u001b[0m\u001b[1;33m)\u001b[0m\u001b[1;33m\u001b[0m\u001b[1;33m\u001b[0m\u001b[0m\n\u001b[0;32m    117\u001b[0m \u001b[1;33m\u001b[0m\u001b[0m\n\u001b[1;32m--> 118\u001b[1;33m         \u001b[0mfilepath\u001b[0m \u001b[1;33m=\u001b[0m \u001b[0mself\u001b[0m\u001b[1;33m.\u001b[0m\u001b[0msave\u001b[0m\u001b[1;33m(\u001b[0m\u001b[0mfilename\u001b[0m\u001b[1;33m,\u001b[0m \u001b[0mdirectory\u001b[0m\u001b[1;33m=\u001b[0m\u001b[0mdirectory\u001b[0m\u001b[1;33m,\u001b[0m \u001b[0mskip_existing\u001b[0m\u001b[1;33m=\u001b[0m\u001b[1;32mNone\u001b[0m\u001b[1;33m)\u001b[0m\u001b[1;33m\u001b[0m\u001b[1;33m\u001b[0m\u001b[0m\n\u001b[0m\u001b[0;32m    119\u001b[0m \u001b[1;33m\u001b[0m\u001b[0m\n\u001b[0;32m    120\u001b[0m         \u001b[0margs\u001b[0m\u001b[1;33m.\u001b[0m\u001b[0mappend\u001b[0m\u001b[1;33m(\u001b[0m\u001b[0mfilepath\u001b[0m\u001b[1;33m)\u001b[0m\u001b[1;33m\u001b[0m\u001b[1;33m\u001b[0m\u001b[0m\n",
      "\u001b[1;32m~\\anaconda3\\lib\\site-packages\\graphviz\\_tools.py\u001b[0m in \u001b[0;36mwrapper\u001b[1;34m(*args, **kwargs)\u001b[0m\n\u001b[0;32m    169\u001b[0m                               category=category)\n\u001b[0;32m    170\u001b[0m \u001b[1;33m\u001b[0m\u001b[0m\n\u001b[1;32m--> 171\u001b[1;33m             \u001b[1;32mreturn\u001b[0m \u001b[0mfunc\u001b[0m\u001b[1;33m(\u001b[0m\u001b[1;33m*\u001b[0m\u001b[0margs\u001b[0m\u001b[1;33m,\u001b[0m \u001b[1;33m**\u001b[0m\u001b[0mkwargs\u001b[0m\u001b[1;33m)\u001b[0m\u001b[1;33m\u001b[0m\u001b[1;33m\u001b[0m\u001b[0m\n\u001b[0m\u001b[0;32m    172\u001b[0m \u001b[1;33m\u001b[0m\u001b[0m\n\u001b[0;32m    173\u001b[0m         \u001b[1;32mreturn\u001b[0m \u001b[0mwrapper\u001b[0m\u001b[1;33m\u001b[0m\u001b[1;33m\u001b[0m\u001b[0m\n",
      "\u001b[1;32m~\\anaconda3\\lib\\site-packages\\graphviz\\saving.py\u001b[0m in \u001b[0;36msave\u001b[1;34m(self, filename, directory, skip_existing)\u001b[0m\n\u001b[0;32m     77\u001b[0m \u001b[1;33m\u001b[0m\u001b[0m\n\u001b[0;32m     78\u001b[0m         \u001b[0mlog\u001b[0m\u001b[1;33m.\u001b[0m\u001b[0mdebug\u001b[0m\u001b[1;33m(\u001b[0m\u001b[1;34m'write lines to %r'\u001b[0m\u001b[1;33m,\u001b[0m \u001b[0mfilepath\u001b[0m\u001b[1;33m)\u001b[0m\u001b[1;33m\u001b[0m\u001b[1;33m\u001b[0m\u001b[0m\n\u001b[1;32m---> 79\u001b[1;33m         \u001b[1;32mwith\u001b[0m \u001b[0mopen\u001b[0m\u001b[1;33m(\u001b[0m\u001b[0mfilepath\u001b[0m\u001b[1;33m,\u001b[0m \u001b[1;34m'w'\u001b[0m\u001b[1;33m,\u001b[0m \u001b[0mencoding\u001b[0m\u001b[1;33m=\u001b[0m\u001b[0mself\u001b[0m\u001b[1;33m.\u001b[0m\u001b[0mencoding\u001b[0m\u001b[1;33m)\u001b[0m \u001b[1;32mas\u001b[0m \u001b[0mfd\u001b[0m\u001b[1;33m:\u001b[0m\u001b[1;33m\u001b[0m\u001b[1;33m\u001b[0m\u001b[0m\n\u001b[0m\u001b[0;32m     80\u001b[0m             \u001b[1;32mfor\u001b[0m \u001b[0muline\u001b[0m \u001b[1;32min\u001b[0m \u001b[0mself\u001b[0m\u001b[1;33m:\u001b[0m\u001b[1;33m\u001b[0m\u001b[1;33m\u001b[0m\u001b[0m\n\u001b[0;32m     81\u001b[0m                 \u001b[0mfd\u001b[0m\u001b[1;33m.\u001b[0m\u001b[0mwrite\u001b[0m\u001b[1;33m(\u001b[0m\u001b[0muline\u001b[0m\u001b[1;33m)\u001b[0m\u001b[1;33m\u001b[0m\u001b[1;33m\u001b[0m\u001b[0m\n",
      "\u001b[1;31mOSError\u001b[0m: [Errno 22] Invalid argument: 'trees\\\\2023-02-25 14:38:45.gv'"
     ]
    }
   ],
   "source": [
    "model.render(path =None,\n",
    "             view = None)"
   ]
  },
  {
   "cell_type": "code",
   "execution_count": null,
   "metadata": {},
   "outputs": [],
   "source": [
    "!pip install plotly"
   ]
  },
  {
   "cell_type": "code",
   "execution_count": 25,
   "metadata": {},
   "outputs": [
    {
     "ename": "SyntaxError",
     "evalue": "invalid syntax (2529819739.py, line 1)",
     "output_type": "error",
     "traceback": [
      "\u001b[1;36m  File \u001b[1;32m\"C:\\Users\\jilli\\AppData\\Local\\Temp\\ipykernel_16572\\2529819739.py\"\u001b[1;36m, line \u001b[1;32m1\u001b[0m\n\u001b[1;33m    sudo apt-get install graphviz\u001b[0m\n\u001b[1;37m         ^\u001b[0m\n\u001b[1;31mSyntaxError\u001b[0m\u001b[1;31m:\u001b[0m invalid syntax\n"
     ]
    }
   ],
   "source": [
    "sudo apt-get install graphviz"
   ]
  },
  {
   "cell_type": "code",
   "execution_count": null,
   "metadata": {},
   "outputs": [],
   "source": [
    "conda install -c plotly plotly=5.13.0"
   ]
  },
  {
   "cell_type": "code",
   "execution_count": null,
   "metadata": {},
   "outputs": [],
   "source": []
  }
 ],
 "metadata": {
  "colab": {
   "authorship_tag": "ABX9TyMwOlaLfZzr8itHytSukWvq",
   "collapsed_sections": [],
   "mount_file_id": "1HphLaq-yCl6JWxR-o7MhrbE_xozbqRRt",
   "name": "CHAID template.ipynb",
   "provenance": []
  },
  "kernelspec": {
   "display_name": "Python 3 (ipykernel)",
   "language": "python",
   "name": "python3"
  },
  "language_info": {
   "codemirror_mode": {
    "name": "ipython",
    "version": 3
   },
   "file_extension": ".py",
   "mimetype": "text/x-python",
   "name": "python",
   "nbconvert_exporter": "python",
   "pygments_lexer": "ipython3",
   "version": "3.9.13"
  }
 },
 "nbformat": 4,
 "nbformat_minor": 1
}
