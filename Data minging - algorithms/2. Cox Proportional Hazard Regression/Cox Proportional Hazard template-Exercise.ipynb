{
 "cells": [
  {
   "cell_type": "markdown",
   "metadata": {
    "id": "tPQ-4Ii4r61v"
   },
   "source": [
    "# Cox Proportional Hazard Regression CPHR"
   ]
  },
  {
   "cell_type": "markdown",
   "metadata": {},
   "source": [
    "Supervised learning technique for data mining. It helps to determine the relationship between the survival time of a patient/subject and one or more predictor variables."
   ]
  },
  {
   "cell_type": "markdown",
   "metadata": {},
   "source": [
    "**Formula:**\n",
    "$$h(t)=h_0(t)*exp(b_1*x_1+b_n+x_n)$$  \n",
    "\n",
    "\n",
    "<p style='text-align: center;'>\n",
    "where \n",
    "$$h_0(t) =$$  baseline hazard,\n",
    "$$b_n=$$  impact coefficients and \n",
    "$$x_n=$$ covariantes\n",
    "$$exp(b_n)=$$ Hazard Ratio (HR)   \n",
    "</p>"
   ]
  },
  {
   "cell_type": "markdown",
   "metadata": {},
   "source": [
    "**Result interpretation:**\n",
    "<pre>\n",
    "HR>1 increase (the likelihood)\n",
    "HR<1 decrease\n",
    "HR=1 neutral \n",
    "</pre>"
   ]
  },
  {
   "cell_type": "markdown",
   "metadata": {},
   "source": [
    "Survival analysis does not allow to include controls or regressors/drivers. At best, you can split in groups of gender, age, etc and perform a log-rank test. CPHR allows it.\n",
    "In contrast, you can add regressors in CPHR\n",
    "\n",
    "examples: With CPGR you can find out why a client does not renewal his credit card based on his credit history, behavior, etc.\n"
   ]
  },
  {
   "cell_type": "markdown",
   "metadata": {},
   "source": [
    "## Case of study: Lung Cancer"
   ]
  },
  {
   "cell_type": "code",
   "execution_count": 1,
   "metadata": {
    "colab": {
     "base_uri": "https://localhost:8080/"
    },
    "executionInfo": {
     "elapsed": 502,
     "status": "ok",
     "timestamp": 1623498504175,
     "user": {
      "displayName": "Diogo Resende",
      "photoUrl": "https://lh3.googleusercontent.com/a-/AOh14GgH4DE06-yE1oiIzCiaAURCl1Escr4LXXiaSnbSaA=s64",
      "userId": "05706604408624562002"
     },
     "user_tz": -120
    },
    "id": "s4g7GO45r9zs",
    "outputId": "a0f013bb-cca2-45e5-bd82-dc53c66d8206"
   },
   "outputs": [
    {
     "name": "stdout",
     "output_type": "stream",
     "text": [
      "C:\\Users\\jilli\\Desktop\\PROJECTS\\5_DATA_MINING\\Data Mining for Business in Python-20221025T033547Z-001\\Data Mining for Business in Python\\2. Cox Proportional Hazard Regression\n"
     ]
    }
   ],
   "source": [
    "%cd C:\\Users\\jilli\\Desktop\\PROJECTS\\5_DATA_MINING\\Data Mining for Business in Python-20221025T033547Z-001\\Data Mining for Business in Python\\2. Cox Proportional Hazard Regression"
   ]
  },
  {
   "cell_type": "markdown",
   "metadata": {
    "id": "DwLtnrjh2x3a"
   },
   "source": [
    "#Libraries"
   ]
  },
  {
   "cell_type": "code",
   "execution_count": 2,
   "metadata": {
    "id": "2OQAE8L020Zn"
   },
   "outputs": [
    {
     "name": "stdout",
     "output_type": "stream",
     "text": [
      "Requirement already satisfied: lifelines in c:\\users\\jilli\\anaconda3\\lib\\site-packages (0.27.3)\n",
      "Requirement already satisfied: matplotlib>=3.0 in c:\\users\\jilli\\anaconda3\\lib\\site-packages (from lifelines) (3.4.3)\n",
      "Requirement already satisfied: pandas>=1.0.0 in c:\\users\\jilli\\anaconda3\\lib\\site-packages (from lifelines) (1.3.4)\n",
      "Requirement already satisfied: formulaic>=0.2.2 in c:\\users\\jilli\\anaconda3\\lib\\site-packages (from lifelines) (0.5.2)\n",
      "Requirement already satisfied: scipy>=1.2.0 in c:\\users\\jilli\\anaconda3\\lib\\site-packages (from lifelines) (1.7.1)\n",
      "Requirement already satisfied: autograd>=1.3 in c:\\users\\jilli\\anaconda3\\lib\\site-packages (from lifelines) (1.5)\n",
      "Requirement already satisfied: autograd-gamma>=0.3 in c:\\users\\jilli\\anaconda3\\lib\\site-packages (from lifelines) (0.5.0)\n",
      "Requirement already satisfied: numpy>=1.14.0 in c:\\users\\jilli\\anaconda3\\lib\\site-packages (from lifelines) (1.20.3)\n",
      "Requirement already satisfied: future>=0.15.2 in c:\\users\\jilli\\anaconda3\\lib\\site-packages (from autograd>=1.3->lifelines) (0.18.2)\n",
      "Requirement already satisfied: interface-meta>=1.2.0 in c:\\users\\jilli\\anaconda3\\lib\\site-packages (from formulaic>=0.2.2->lifelines) (1.3.0)\n",
      "Requirement already satisfied: astor>=0.8 in c:\\users\\jilli\\anaconda3\\lib\\site-packages (from formulaic>=0.2.2->lifelines) (0.8.1)\n",
      "Requirement already satisfied: typing-extensions>=4.2.0 in c:\\users\\jilli\\anaconda3\\lib\\site-packages (from formulaic>=0.2.2->lifelines) (4.4.0)\n",
      "Requirement already satisfied: wrapt>=1.0 in c:\\users\\jilli\\anaconda3\\lib\\site-packages (from formulaic>=0.2.2->lifelines) (1.12.1)\n",
      "Requirement already satisfied: cycler>=0.10 in c:\\users\\jilli\\anaconda3\\lib\\site-packages (from matplotlib>=3.0->lifelines) (0.10.0)\n",
      "Requirement already satisfied: kiwisolver>=1.0.1 in c:\\users\\jilli\\anaconda3\\lib\\site-packages (from matplotlib>=3.0->lifelines) (1.3.1)\n",
      "Requirement already satisfied: pillow>=6.2.0 in c:\\users\\jilli\\anaconda3\\lib\\site-packages (from matplotlib>=3.0->lifelines) (8.4.0)\n",
      "Requirement already satisfied: python-dateutil>=2.7 in c:\\users\\jilli\\anaconda3\\lib\\site-packages (from matplotlib>=3.0->lifelines) (2.8.2)\n",
      "Requirement already satisfied: pyparsing>=2.2.1 in c:\\users\\jilli\\anaconda3\\lib\\site-packages (from matplotlib>=3.0->lifelines) (3.0.4)\n",
      "Requirement already satisfied: six in c:\\users\\jilli\\anaconda3\\lib\\site-packages (from cycler>=0.10->matplotlib>=3.0->lifelines) (1.16.0)\n",
      "Requirement already satisfied: pytz>=2017.3 in c:\\users\\jilli\\anaconda3\\lib\\site-packages (from pandas>=1.0.0->lifelines) (2021.3)\n"
     ]
    }
   ],
   "source": [
    "#install library\n",
    "!pip install lifelines"
   ]
  },
  {
   "cell_type": "code",
   "execution_count": 3,
   "metadata": {
    "executionInfo": {
     "elapsed": 374,
     "status": "ok",
     "timestamp": 1623498524002,
     "user": {
      "displayName": "Diogo Resende",
      "photoUrl": "https://lh3.googleusercontent.com/a-/AOh14GgH4DE06-yE1oiIzCiaAURCl1Escr4LXXiaSnbSaA=s64",
      "userId": "05706604408624562002"
     },
     "user_tz": -120
    },
    "id": "SU9vyLnd26mv"
   },
   "outputs": [],
   "source": [
    "#import libraries\n",
    "import pandas as pd"
   ]
  },
  {
   "cell_type": "markdown",
   "metadata": {
    "id": "gzzw8IkM31_l"
   },
   "source": [
    "### 1. Prepare Datasets"
   ]
  },
  {
   "cell_type": "code",
   "execution_count": 4,
   "metadata": {
    "colab": {
     "base_uri": "https://localhost:8080/",
     "height": 205
    },
    "executionInfo": {
     "elapsed": 383,
     "status": "ok",
     "timestamp": 1623498597526,
     "user": {
      "displayName": "Diogo Resende",
      "photoUrl": "https://lh3.googleusercontent.com/a-/AOh14GgH4DE06-yE1oiIzCiaAURCl1Escr4LXXiaSnbSaA=s64",
      "userId": "05706604408624562002"
     },
     "user_tz": -120
    },
    "id": "AVojNxyg38ao",
    "outputId": "504264ec-d3c1-4087-a4dc-b69b810fe7ac"
   },
   "outputs": [
    {
     "data": {
      "text/html": [
       "<div>\n",
       "<style scoped>\n",
       "    .dataframe tbody tr th:only-of-type {\n",
       "        vertical-align: middle;\n",
       "    }\n",
       "\n",
       "    .dataframe tbody tr th {\n",
       "        vertical-align: top;\n",
       "    }\n",
       "\n",
       "    .dataframe thead th {\n",
       "        text-align: right;\n",
       "    }\n",
       "</style>\n",
       "<table border=\"1\" class=\"dataframe\">\n",
       "  <thead>\n",
       "    <tr style=\"text-align: right;\">\n",
       "      <th></th>\n",
       "      <th>inst</th>\n",
       "      <th>time</th>\n",
       "      <th>status</th>\n",
       "      <th>age</th>\n",
       "      <th>sex</th>\n",
       "      <th>ph.ecog</th>\n",
       "      <th>ph.karno</th>\n",
       "      <th>pat.karno</th>\n",
       "      <th>meal.cal</th>\n",
       "      <th>wt.loss</th>\n",
       "    </tr>\n",
       "  </thead>\n",
       "  <tbody>\n",
       "    <tr>\n",
       "      <th>1</th>\n",
       "      <td>3.0</td>\n",
       "      <td>455</td>\n",
       "      <td>2</td>\n",
       "      <td>68</td>\n",
       "      <td>1</td>\n",
       "      <td>0.0</td>\n",
       "      <td>90.0</td>\n",
       "      <td>90.0</td>\n",
       "      <td>1225.0</td>\n",
       "      <td>15.0</td>\n",
       "    </tr>\n",
       "    <tr>\n",
       "      <th>3</th>\n",
       "      <td>5.0</td>\n",
       "      <td>210</td>\n",
       "      <td>2</td>\n",
       "      <td>57</td>\n",
       "      <td>1</td>\n",
       "      <td>1.0</td>\n",
       "      <td>90.0</td>\n",
       "      <td>60.0</td>\n",
       "      <td>1150.0</td>\n",
       "      <td>11.0</td>\n",
       "    </tr>\n",
       "    <tr>\n",
       "      <th>5</th>\n",
       "      <td>12.0</td>\n",
       "      <td>1022</td>\n",
       "      <td>1</td>\n",
       "      <td>74</td>\n",
       "      <td>1</td>\n",
       "      <td>1.0</td>\n",
       "      <td>50.0</td>\n",
       "      <td>80.0</td>\n",
       "      <td>513.0</td>\n",
       "      <td>0.0</td>\n",
       "    </tr>\n",
       "    <tr>\n",
       "      <th>6</th>\n",
       "      <td>7.0</td>\n",
       "      <td>310</td>\n",
       "      <td>2</td>\n",
       "      <td>68</td>\n",
       "      <td>2</td>\n",
       "      <td>2.0</td>\n",
       "      <td>70.0</td>\n",
       "      <td>60.0</td>\n",
       "      <td>384.0</td>\n",
       "      <td>10.0</td>\n",
       "    </tr>\n",
       "    <tr>\n",
       "      <th>7</th>\n",
       "      <td>11.0</td>\n",
       "      <td>361</td>\n",
       "      <td>2</td>\n",
       "      <td>71</td>\n",
       "      <td>2</td>\n",
       "      <td>2.0</td>\n",
       "      <td>60.0</td>\n",
       "      <td>80.0</td>\n",
       "      <td>538.0</td>\n",
       "      <td>1.0</td>\n",
       "    </tr>\n",
       "  </tbody>\n",
       "</table>\n",
       "</div>"
      ],
      "text/plain": [
       "   inst  time  status  age  sex  ph.ecog  ph.karno  pat.karno  meal.cal  \\\n",
       "1   3.0   455       2   68    1      0.0      90.0       90.0    1225.0   \n",
       "3   5.0   210       2   57    1      1.0      90.0       60.0    1150.0   \n",
       "5  12.0  1022       1   74    1      1.0      50.0       80.0     513.0   \n",
       "6   7.0   310       2   68    2      2.0      70.0       60.0     384.0   \n",
       "7  11.0   361       2   71    2      2.0      60.0       80.0     538.0   \n",
       "\n",
       "   wt.loss  \n",
       "1     15.0  \n",
       "3     11.0  \n",
       "5      0.0  \n",
       "6     10.0  \n",
       "7      1.0  "
      ]
     },
     "execution_count": 4,
     "metadata": {},
     "output_type": "execute_result"
    }
   ],
   "source": [
    "#import dataset\n",
    "dataset = pd.read_csv(\"lung.csv\")\n",
    "dataset = dataset.dropna() #drop NA.You have to remove NA or replace it by mean or sth\n",
    "dataset.head()                                   "
   ]
  },
  {
   "cell_type": "code",
   "execution_count": 6,
   "metadata": {
    "colab": {
     "base_uri": "https://localhost:8080/"
    },
    "executionInfo": {
     "elapsed": 357,
     "status": "ok",
     "timestamp": 1623498606827,
     "user": {
      "displayName": "Diogo Resende",
      "photoUrl": "https://lh3.googleusercontent.com/a-/AOh14GgH4DE06-yE1oiIzCiaAURCl1Escr4LXXiaSnbSaA=s64",
      "userId": "05706604408624562002"
     },
     "user_tz": -120
    },
    "id": "iEbdLT4Zg_iZ",
    "outputId": "89ee59a7-75ea-4a33-c6bf-5ad5910898ed"
   },
   "outputs": [
    {
     "data": {
      "text/plain": [
       "<bound method NDFrame.head of      inst  time  status  age  ...  ph.karno  pat.karno  meal.cal  wt.loss\n",
       "1     3.0   455       1   68  ...      90.0       90.0    1225.0     15.0\n",
       "3     5.0   210       1   57  ...      90.0       60.0    1150.0     11.0\n",
       "5    12.0  1022       0   74  ...      50.0       80.0     513.0      0.0\n",
       "6     7.0   310       1   68  ...      70.0       60.0     384.0     10.0\n",
       "7    11.0   361       1   71  ...      60.0       80.0     538.0      1.0\n",
       "..    ...   ...     ...  ...  ...       ...        ...       ...      ...\n",
       "221  11.0   203       0   71  ...      80.0       90.0    1025.0      0.0\n",
       "224  13.0   191       0   39  ...      90.0       90.0    2350.0     -5.0\n",
       "225  32.0   105       0   75  ...      60.0       70.0    1025.0      5.0\n",
       "226   6.0   174       0   66  ...      90.0      100.0    1075.0      1.0\n",
       "227  22.0   177       0   58  ...      80.0       90.0    1060.0      0.0\n",
       "\n",
       "[167 rows x 10 columns]>"
      ]
     },
     "execution_count": 6,
     "metadata": {
      "tags": []
     },
     "output_type": "execute_result"
    }
   ],
   "source": [
    "#transforming dependent variable\n",
    "dataset.loc[dataset.status == 1, \"status\"] = 0\n",
    "dataset.loc[dataset.status == 2, \"status\"] = 1 # status: censoring status 1=censored, 2=dead (1 or 0 alive 2 or 1 dead)\n",
    "dataset.head"
   ]
  },
  {
   "cell_type": "markdown",
   "metadata": {},
   "source": [
    "Variables:\n",
    "- inst: Institution code\n",
    "- time: Survival time in days (time a person survive)\n",
    "- status: censoring status 1=censored, 2=dead (1 alive 2 dead)\n",
    "\n",
    "characteristis of the person\n",
    "- age: Age in years\n",
    "- sex: Male=1 Female=2\n",
    "- ph.ecog: ECOG performance score as rated by the physician. 0=asymptomatic, 1= symptomatic but completely ambulatory, 2= in bed <50% of the day, 3= in bed > 50% of the day but not bedbound, 4 = bedbound\n",
    "- ph.karno: Karnofsky performance score (bad=0-good=100) rated by physician\n",
    "- pat.karno: Karnofsky performance score as rated by patient\n",
    "- meal.cal: Calories consumed at meals\n",
    "- wt.loss: Weight loss in last six months\n",
    "\n",
    "Example: the person 1 lived 306 days and now is dead. "
   ]
  },
  {
   "cell_type": "code",
   "execution_count": 5,
   "metadata": {
    "colab": {
     "base_uri": "https://localhost:8080/",
     "height": 205
    },
    "executionInfo": {
     "elapsed": 380,
     "status": "ok",
     "timestamp": 1623498714525,
     "user": {
      "displayName": "Diogo Resende",
      "photoUrl": "https://lh3.googleusercontent.com/a-/AOh14GgH4DE06-yE1oiIzCiaAURCl1Escr4LXXiaSnbSaA=s64",
      "userId": "05706604408624562002"
     },
     "user_tz": -120
    },
    "id": "F-1TFD6wD4CB",
    "outputId": "731e5e3c-6cad-43e9-ce30-4883e8aee7f7"
   },
   "outputs": [
    {
     "data": {
      "text/html": [
       "<div>\n",
       "<style scoped>\n",
       "    .dataframe tbody tr th:only-of-type {\n",
       "        vertical-align: middle;\n",
       "    }\n",
       "\n",
       "    .dataframe tbody tr th {\n",
       "        vertical-align: top;\n",
       "    }\n",
       "\n",
       "    .dataframe thead th {\n",
       "        text-align: right;\n",
       "    }\n",
       "</style>\n",
       "<table border=\"1\" class=\"dataframe\">\n",
       "  <thead>\n",
       "    <tr style=\"text-align: right;\">\n",
       "      <th></th>\n",
       "      <th>time</th>\n",
       "      <th>status</th>\n",
       "      <th>age</th>\n",
       "      <th>sex</th>\n",
       "      <th>ph.ecog</th>\n",
       "      <th>ph.karno</th>\n",
       "      <th>pat.karno</th>\n",
       "      <th>meal.cal</th>\n",
       "      <th>wt.loss</th>\n",
       "    </tr>\n",
       "  </thead>\n",
       "  <tbody>\n",
       "    <tr>\n",
       "      <th>1</th>\n",
       "      <td>455</td>\n",
       "      <td>2</td>\n",
       "      <td>68</td>\n",
       "      <td>1</td>\n",
       "      <td>0.0</td>\n",
       "      <td>90.0</td>\n",
       "      <td>90.0</td>\n",
       "      <td>1225.0</td>\n",
       "      <td>15.0</td>\n",
       "    </tr>\n",
       "    <tr>\n",
       "      <th>3</th>\n",
       "      <td>210</td>\n",
       "      <td>2</td>\n",
       "      <td>57</td>\n",
       "      <td>1</td>\n",
       "      <td>1.0</td>\n",
       "      <td>90.0</td>\n",
       "      <td>60.0</td>\n",
       "      <td>1150.0</td>\n",
       "      <td>11.0</td>\n",
       "    </tr>\n",
       "    <tr>\n",
       "      <th>5</th>\n",
       "      <td>1022</td>\n",
       "      <td>1</td>\n",
       "      <td>74</td>\n",
       "      <td>1</td>\n",
       "      <td>1.0</td>\n",
       "      <td>50.0</td>\n",
       "      <td>80.0</td>\n",
       "      <td>513.0</td>\n",
       "      <td>0.0</td>\n",
       "    </tr>\n",
       "    <tr>\n",
       "      <th>6</th>\n",
       "      <td>310</td>\n",
       "      <td>2</td>\n",
       "      <td>68</td>\n",
       "      <td>2</td>\n",
       "      <td>2.0</td>\n",
       "      <td>70.0</td>\n",
       "      <td>60.0</td>\n",
       "      <td>384.0</td>\n",
       "      <td>10.0</td>\n",
       "    </tr>\n",
       "    <tr>\n",
       "      <th>7</th>\n",
       "      <td>361</td>\n",
       "      <td>2</td>\n",
       "      <td>71</td>\n",
       "      <td>2</td>\n",
       "      <td>2.0</td>\n",
       "      <td>60.0</td>\n",
       "      <td>80.0</td>\n",
       "      <td>538.0</td>\n",
       "      <td>1.0</td>\n",
       "    </tr>\n",
       "  </tbody>\n",
       "</table>\n",
       "</div>"
      ],
      "text/plain": [
       "   time  status  age  sex  ph.ecog  ph.karno  pat.karno  meal.cal  wt.loss\n",
       "1   455       2   68    1      0.0      90.0       90.0    1225.0     15.0\n",
       "3   210       2   57    1      1.0      90.0       60.0    1150.0     11.0\n",
       "5  1022       1   74    1      1.0      50.0       80.0     513.0      0.0\n",
       "6   310       2   68    2      2.0      70.0       60.0     384.0     10.0\n",
       "7   361       2   71    2      2.0      60.0       80.0     538.0      1.0"
      ]
     },
     "execution_count": 5,
     "metadata": {},
     "output_type": "execute_result"
    }
   ],
   "source": [
    "#remove instances variables\n",
    "dataset = dataset.drop(columns = \"inst\")\n",
    "dataset.head()"
   ]
  },
  {
   "cell_type": "markdown",
   "metadata": {
    "id": "k-QDiLQglbxv"
   },
   "source": [
    "### 2. Cox Proportional Hazard"
   ]
  },
  {
   "cell_type": "code",
   "execution_count": 10,
   "metadata": {
    "colab": {
     "base_uri": "https://localhost:8080/",
     "height": 675
    },
    "executionInfo": {
     "elapsed": 497,
     "status": "ok",
     "timestamp": 1623498906558,
     "user": {
      "displayName": "Diogo Resende",
      "photoUrl": "https://lh3.googleusercontent.com/a-/AOh14GgH4DE06-yE1oiIzCiaAURCl1Escr4LXXiaSnbSaA=s64",
      "userId": "05706604408624562002"
     },
     "user_tz": -120
    },
    "id": "ySahBZkREWHp",
    "outputId": "9a9aed9a-0a29-4bc4-b0e2-0c1ec2fe9609"
   },
   "outputs": [
    {
     "data": {
      "text/html": [
       "<div>\n",
       "<style scoped>\n",
       "    .dataframe tbody tr th:only-of-type {\n",
       "        vertical-align: middle;\n",
       "    }\n",
       "\n",
       "    .dataframe tbody tr th {\n",
       "        vertical-align: top;\n",
       "    }\n",
       "\n",
       "    .dataframe thead th {\n",
       "        text-align: right;\n",
       "    }\n",
       "</style>\n",
       "<table border=\"1\" class=\"dataframe\">\n",
       "  <tbody>\n",
       "    <tr>\n",
       "      <th>model</th>\n",
       "      <td>lifelines.CoxPHFitter</td>\n",
       "    </tr>\n",
       "    <tr>\n",
       "      <th>duration col</th>\n",
       "      <td>'time'</td>\n",
       "    </tr>\n",
       "    <tr>\n",
       "      <th>event col</th>\n",
       "      <td>'status'</td>\n",
       "    </tr>\n",
       "    <tr>\n",
       "      <th>baseline estimation</th>\n",
       "      <td>breslow</td>\n",
       "    </tr>\n",
       "    <tr>\n",
       "      <th>number of observations</th>\n",
       "      <td>167</td>\n",
       "    </tr>\n",
       "    <tr>\n",
       "      <th>number of events observed</th>\n",
       "      <td>120</td>\n",
       "    </tr>\n",
       "    <tr>\n",
       "      <th>partial log-likelihood</th>\n",
       "      <td>-494.03</td>\n",
       "    </tr>\n",
       "    <tr>\n",
       "      <th>time fit was run</th>\n",
       "      <td>2021-06-12 11:55:05 UTC</td>\n",
       "    </tr>\n",
       "  </tbody>\n",
       "</table>\n",
       "</div><table border=\"1\" class=\"dataframe\">\n",
       "  <thead>\n",
       "    <tr style=\"text-align: right;\">\n",
       "      <th style=\"min-width: 12px;\"></th>\n",
       "      <th style=\"min-width: 12px;\">coef</th>\n",
       "      <th style=\"min-width: 12px;\">exp(coef)</th>\n",
       "      <th style=\"min-width: 12px;\">se(coef)</th>\n",
       "      <th style=\"min-width: 12px;\">coef lower 95%</th>\n",
       "      <th style=\"min-width: 12px;\">coef upper 95%</th>\n",
       "      <th style=\"min-width: 12px;\">exp(coef) lower 95%</th>\n",
       "      <th style=\"min-width: 12px;\">exp(coef) upper 95%</th>\n",
       "      <th style=\"min-width: 12px;\">z</th>\n",
       "      <th style=\"min-width: 12px;\">p</th>\n",
       "      <th style=\"min-width: 12px;\">-log2(p)</th>\n",
       "    </tr>\n",
       "  </thead>\n",
       "  <tbody>\n",
       "    <tr>\n",
       "      <th>age</th>\n",
       "      <td>0.01</td>\n",
       "      <td>1.01</td>\n",
       "      <td>0.01</td>\n",
       "      <td>-0.01</td>\n",
       "      <td>0.03</td>\n",
       "      <td>0.99</td>\n",
       "      <td>1.03</td>\n",
       "      <td>0.93</td>\n",
       "      <td>0.35</td>\n",
       "      <td>1.51</td>\n",
       "    </tr>\n",
       "    <tr>\n",
       "      <th>sex</th>\n",
       "      <td>-0.55</td>\n",
       "      <td>0.57</td>\n",
       "      <td>0.20</td>\n",
       "      <td>-0.95</td>\n",
       "      <td>-0.16</td>\n",
       "      <td>0.39</td>\n",
       "      <td>0.85</td>\n",
       "      <td>-2.75</td>\n",
       "      <td>0.01</td>\n",
       "      <td>7.37</td>\n",
       "    </tr>\n",
       "    <tr>\n",
       "      <th>ph.ecog</th>\n",
       "      <td>0.74</td>\n",
       "      <td>2.09</td>\n",
       "      <td>0.22</td>\n",
       "      <td>0.30</td>\n",
       "      <td>1.18</td>\n",
       "      <td>1.35</td>\n",
       "      <td>3.26</td>\n",
       "      <td>3.29</td>\n",
       "      <td>&lt;0.005</td>\n",
       "      <td>9.95</td>\n",
       "    </tr>\n",
       "    <tr>\n",
       "      <th>ph.karno</th>\n",
       "      <td>0.02</td>\n",
       "      <td>1.02</td>\n",
       "      <td>0.01</td>\n",
       "      <td>0.00</td>\n",
       "      <td>0.04</td>\n",
       "      <td>1.00</td>\n",
       "      <td>1.05</td>\n",
       "      <td>2.00</td>\n",
       "      <td>0.05</td>\n",
       "      <td>4.45</td>\n",
       "    </tr>\n",
       "    <tr>\n",
       "      <th>pat.karno</th>\n",
       "      <td>-0.01</td>\n",
       "      <td>0.99</td>\n",
       "      <td>0.01</td>\n",
       "      <td>-0.03</td>\n",
       "      <td>0.00</td>\n",
       "      <td>0.97</td>\n",
       "      <td>1.00</td>\n",
       "      <td>-1.49</td>\n",
       "      <td>0.14</td>\n",
       "      <td>2.87</td>\n",
       "    </tr>\n",
       "    <tr>\n",
       "      <th>meal.cal</th>\n",
       "      <td>0.00</td>\n",
       "      <td>1.00</td>\n",
       "      <td>0.00</td>\n",
       "      <td>-0.00</td>\n",
       "      <td>0.00</td>\n",
       "      <td>1.00</td>\n",
       "      <td>1.00</td>\n",
       "      <td>0.11</td>\n",
       "      <td>0.91</td>\n",
       "      <td>0.13</td>\n",
       "    </tr>\n",
       "    <tr>\n",
       "      <th>wt.loss</th>\n",
       "      <td>-0.01</td>\n",
       "      <td>0.99</td>\n",
       "      <td>0.01</td>\n",
       "      <td>-0.03</td>\n",
       "      <td>0.00</td>\n",
       "      <td>0.97</td>\n",
       "      <td>1.00</td>\n",
       "      <td>-1.83</td>\n",
       "      <td>0.07</td>\n",
       "      <td>3.89</td>\n",
       "    </tr>\n",
       "  </tbody>\n",
       "</table><br><div>\n",
       "<style scoped>\n",
       "    .dataframe tbody tr th:only-of-type {\n",
       "        vertical-align: middle;\n",
       "    }\n",
       "\n",
       "    .dataframe tbody tr th {\n",
       "        vertical-align: top;\n",
       "    }\n",
       "\n",
       "    .dataframe thead th {\n",
       "        text-align: right;\n",
       "    }\n",
       "</style>\n",
       "<table border=\"1\" class=\"dataframe\">\n",
       "  <tbody>\n",
       "    <tr>\n",
       "      <th>Concordance</th>\n",
       "      <td>0.65</td>\n",
       "    </tr>\n",
       "    <tr>\n",
       "      <th>Partial AIC</th>\n",
       "      <td>1002.07</td>\n",
       "    </tr>\n",
       "    <tr>\n",
       "      <th>log-likelihood ratio test</th>\n",
       "      <td>28.16 on 7 df</td>\n",
       "    </tr>\n",
       "    <tr>\n",
       "      <th>-log2(p) of ll-ratio test</th>\n",
       "      <td>12.25</td>\n",
       "    </tr>\n",
       "  </tbody>\n",
       "</table>\n",
       "</div>"
      ],
      "text/latex": [
       "\\begin{tabular}{lrrrrrrrrrr}\n",
       "\\toprule\n",
       "{} &  coef &  exp(coef) &  se(coef) &  coef lower 95\\% &  coef upper 95\\% &  exp(coef) lower 95\\% &  exp(coef) upper 95\\% &     z &    p &  -log2(p) \\\\\n",
       "covariate &       &            &           &                 &                 &                      &                      &       &      &           \\\\\n",
       "\\midrule\n",
       "age       &  0.01 &       1.01 &      0.01 &           -0.01 &            0.03 &                 0.99 &                 1.03 &  0.93 & 0.35 &      1.51 \\\\\n",
       "sex       & -0.55 &       0.57 &      0.20 &           -0.95 &           -0.16 &                 0.39 &                 0.85 & -2.75 & 0.01 &      7.37 \\\\\n",
       "ph.ecog   &  0.74 &       2.09 &      0.22 &            0.30 &            1.18 &                 1.35 &                 3.26 &  3.29 & 0.00 &      9.95 \\\\\n",
       "ph.karno  &  0.02 &       1.02 &      0.01 &            0.00 &            0.04 &                 1.00 &                 1.05 &  2.00 & 0.05 &      4.45 \\\\\n",
       "pat.karno & -0.01 &       0.99 &      0.01 &           -0.03 &            0.00 &                 0.97 &                 1.00 & -1.49 & 0.14 &      2.87 \\\\\n",
       "meal.cal  &  0.00 &       1.00 &      0.00 &           -0.00 &            0.00 &                 1.00 &                 1.00 &  0.11 & 0.91 &      0.13 \\\\\n",
       "wt.loss   & -0.01 &       0.99 &      0.01 &           -0.03 &            0.00 &                 0.97 &                 1.00 & -1.83 & 0.07 &      3.89 \\\\\n",
       "\\bottomrule\n",
       "\\end{tabular}\n"
      ],
      "text/plain": [
       "<lifelines.CoxPHFitter: fitted with 167 total observations, 47 right-censored observations>\n",
       "             duration col = 'time'\n",
       "                event col = 'status'\n",
       "      baseline estimation = breslow\n",
       "   number of observations = 167\n",
       "number of events observed = 120\n",
       "   partial log-likelihood = -494.03\n",
       "         time fit was run = 2021-06-12 11:55:05 UTC\n",
       "\n",
       "---\n",
       "            coef  exp(coef)   se(coef)   coef lower 95%   coef upper 95%  exp(coef) lower 95%  exp(coef) upper 95%\n",
       "covariate                                                                                                         \n",
       "age         0.01       1.01       0.01            -0.01             0.03                 0.99                 1.03\n",
       "sex        -0.55       0.57       0.20            -0.95            -0.16                 0.39                 0.85\n",
       "ph.ecog     0.74       2.09       0.22             0.30             1.18                 1.35                 3.26\n",
       "ph.karno    0.02       1.02       0.01             0.00             0.04                 1.00                 1.05\n",
       "pat.karno  -0.01       0.99       0.01            -0.03             0.00                 0.97                 1.00\n",
       "meal.cal    0.00       1.00       0.00            -0.00             0.00                 1.00                 1.00\n",
       "wt.loss    -0.01       0.99       0.01            -0.03             0.00                 0.97                 1.00\n",
       "\n",
       "              z      p   -log2(p)\n",
       "covariate                        \n",
       "age        0.93   0.35       1.51\n",
       "sex       -2.75   0.01       7.37\n",
       "ph.ecog    3.29 <0.005       9.95\n",
       "ph.karno   2.00   0.05       4.45\n",
       "pat.karno -1.49   0.14       2.87\n",
       "meal.cal   0.11   0.91       0.13\n",
       "wt.loss   -1.83   0.07       3.89\n",
       "---\n",
       "Concordance = 0.65\n",
       "Partial AIC = 1002.07\n",
       "log-likelihood ratio test = 28.16 on 7 df\n",
       "-log2(p) of ll-ratio test = 12.25"
      ]
     },
     "metadata": {
      "tags": []
     },
     "output_type": "display_data"
    }
   ],
   "source": [
    "#CPH model\n",
    "from lifelines import CoxPHFitter\n",
    "model = CoxPHFitter()\n",
    "model.fit(dataset,\n",
    "          \"time\",\n",
    "          event_col = \"status\")\n",
    "model.print_summary()"
   ]
  },
  {
   "cell_type": "markdown",
   "metadata": {},
   "source": [
    "- exp(coef) = HR > < = 1\n",
    "- coef sex = -0.55: if the sex=1, it decreases the likelihood\n",
    "- coef wr.loss= -0.01: if someone lost weight, then he/she will die\n",
    "- p<0.05: significance at 5% \n",
    "\n"
   ]
  },
  {
   "cell_type": "markdown",
   "metadata": {
    "id": "JMYmsLCz8nFq"
   },
   "source": [
    "#Visualization"
   ]
  },
  {
   "cell_type": "code",
   "execution_count": 11,
   "metadata": {
    "colab": {
     "base_uri": "https://localhost:8080/",
     "height": 296
    },
    "executionInfo": {
     "elapsed": 413,
     "status": "ok",
     "timestamp": 1623499187963,
     "user": {
      "displayName": "Diogo Resende",
      "photoUrl": "https://lh3.googleusercontent.com/a-/AOh14GgH4DE06-yE1oiIzCiaAURCl1Escr4LXXiaSnbSaA=s64",
      "userId": "05706604408624562002"
     },
     "user_tz": -120
    },
    "id": "7pcHmJSWF5of",
    "outputId": "facef090-eef5-4917-a61b-77c1cdf88609"
   },
   "outputs": [
    {
     "data": {
      "text/plain": [
       "<matplotlib.axes._subplots.AxesSubplot at 0x7f926bf2cd50>"
      ]
     },
     "execution_count": 11,
     "metadata": {
      "tags": []
     },
     "output_type": "execute_result"
    },
    {
     "data": {
      "image/png": "[encoded data removed]",
      "text/plain": [
       "<Figure size 432x288 with 1 Axes>"
      ]
     },
     "metadata": {
      "needs_background": "light",
      "tags": []
     },
     "output_type": "display_data"
    }
   ],
   "source": [
    "#visualizing model\n",
    "model.plot()\n",
    "# meal.car/age is overlaping = it is not statistically non-significant.\n",
    "# ph.ecog and sex are very relevant "
   ]
  },
  {
   "cell_type": "markdown",
   "metadata": {},
   "source": [
    "## Case of study: Veterans' Administration Lung Cancer study"
   ]
  },
  {
   "cell_type": "markdown",
   "metadata": {},
   "source": [
    "Randomised trial of two treatment regimens for lung cancer. This is a standard survival analysis data set."
   ]
  },
  {
   "cell_type": "markdown",
   "metadata": {},
   "source": [
    "### 1. Prepare Datasets"
   ]
  },
  {
   "cell_type": "code",
   "execution_count": 9,
   "metadata": {},
   "outputs": [
    {
     "name": "stdout",
     "output_type": "stream",
     "text": [
      "C:\\Users\\jilli\\Desktop\\PROJECTS\\5_DATA_MINING\\Data Mining for Business in Python-20221025T033547Z-001\\Data Mining for Business in Python\\2. Cox Proportional Hazard Regression\n"
     ]
    }
   ],
   "source": [
    "%cd C:\\Users\\jilli\\Desktop\\PROJECTS\\5_DATA_MINING\\Data Mining for Business in Python-20221025T033547Z-001\\Data Mining for Business in Python\\2. Cox Proportional Hazard Regression"
   ]
  },
  {
   "cell_type": "code",
   "execution_count": 3,
   "metadata": {},
   "outputs": [
    {
     "name": "stdout",
     "output_type": "stream",
     "text": [
      "Requirement already satisfied: lifelines in c:\\users\\jilli\\anaconda3\\lib\\site-packages (0.27.3)\n",
      "Requirement already satisfied: scipy>=1.2.0 in c:\\users\\jilli\\anaconda3\\lib\\site-packages (from lifelines) (1.7.1)\n",
      "Requirement already satisfied: formulaic>=0.2.2 in c:\\users\\jilli\\anaconda3\\lib\\site-packages (from lifelines) (0.5.2)\n",
      "Requirement already satisfied: numpy>=1.14.0 in c:\\users\\jilli\\anaconda3\\lib\\site-packages (from lifelines) (1.20.3)\n",
      "Requirement already satisfied: matplotlib>=3.0 in c:\\users\\jilli\\anaconda3\\lib\\site-packages (from lifelines) (3.4.3)\n",
      "Requirement already satisfied: pandas>=1.0.0 in c:\\users\\jilli\\anaconda3\\lib\\site-packages (from lifelines) (1.3.4)\n",
      "Requirement already satisfied: autograd>=1.3 in c:\\users\\jilli\\anaconda3\\lib\\site-packages (from lifelines) (1.5)\n",
      "Requirement already satisfied: autograd-gamma>=0.3 in c:\\users\\jilli\\anaconda3\\lib\\site-packages (from lifelines) (0.5.0)\n",
      "Requirement already satisfied: future>=0.15.2 in c:\\users\\jilli\\anaconda3\\lib\\site-packages (from autograd>=1.3->lifelines) (0.18.2)\n",
      "Requirement already satisfied: typing-extensions>=4.2.0 in c:\\users\\jilli\\anaconda3\\lib\\site-packages (from formulaic>=0.2.2->lifelines) (4.4.0)\n",
      "Requirement already satisfied: interface-meta>=1.2.0 in c:\\users\\jilli\\anaconda3\\lib\\site-packages (from formulaic>=0.2.2->lifelines) (1.3.0)\n",
      "Requirement already satisfied: wrapt>=1.0 in c:\\users\\jilli\\anaconda3\\lib\\site-packages (from formulaic>=0.2.2->lifelines) (1.12.1)\n",
      "Requirement already satisfied: astor>=0.8 in c:\\users\\jilli\\anaconda3\\lib\\site-packages (from formulaic>=0.2.2->lifelines) (0.8.1)\n",
      "Requirement already satisfied: pyparsing>=2.2.1 in c:\\users\\jilli\\anaconda3\\lib\\site-packages (from matplotlib>=3.0->lifelines) (3.0.4)\n",
      "Requirement already satisfied: python-dateutil>=2.7 in c:\\users\\jilli\\anaconda3\\lib\\site-packages (from matplotlib>=3.0->lifelines) (2.8.2)\n",
      "Requirement already satisfied: kiwisolver>=1.0.1 in c:\\users\\jilli\\anaconda3\\lib\\site-packages (from matplotlib>=3.0->lifelines) (1.3.1)\n",
      "Requirement already satisfied: cycler>=0.10 in c:\\users\\jilli\\anaconda3\\lib\\site-packages (from matplotlib>=3.0->lifelines) (0.10.0)\n",
      "Requirement already satisfied: pillow>=6.2.0 in c:\\users\\jilli\\anaconda3\\lib\\site-packages (from matplotlib>=3.0->lifelines) (8.4.0)\n",
      "Requirement already satisfied: six in c:\\users\\jilli\\anaconda3\\lib\\site-packages (from cycler>=0.10->matplotlib>=3.0->lifelines) (1.16.0)\n",
      "Requirement already satisfied: pytz>=2017.3 in c:\\users\\jilli\\anaconda3\\lib\\site-packages (from pandas>=1.0.0->lifelines) (2021.3)\n"
     ]
    }
   ],
   "source": [
    "!pip install lifelines"
   ]
  },
  {
   "cell_type": "code",
   "execution_count": 4,
   "metadata": {},
   "outputs": [],
   "source": [
    "#libraries\n",
    "import pandas as pd"
   ]
  },
  {
   "cell_type": "code",
   "execution_count": 5,
   "metadata": {},
   "outputs": [
    {
     "data": {
      "text/html": [
       "<div>\n",
       "<style scoped>\n",
       "    .dataframe tbody tr th:only-of-type {\n",
       "        vertical-align: middle;\n",
       "    }\n",
       "\n",
       "    .dataframe tbody tr th {\n",
       "        vertical-align: top;\n",
       "    }\n",
       "\n",
       "    .dataframe thead th {\n",
       "        text-align: right;\n",
       "    }\n",
       "</style>\n",
       "<table border=\"1\" class=\"dataframe\">\n",
       "  <thead>\n",
       "    <tr style=\"text-align: right;\">\n",
       "      <th></th>\n",
       "      <th>trt</th>\n",
       "      <th>celltype</th>\n",
       "      <th>time</th>\n",
       "      <th>status</th>\n",
       "      <th>karno</th>\n",
       "      <th>diagtime</th>\n",
       "      <th>age</th>\n",
       "      <th>prior</th>\n",
       "    </tr>\n",
       "  </thead>\n",
       "  <tbody>\n",
       "    <tr>\n",
       "      <th>0</th>\n",
       "      <td>1</td>\n",
       "      <td>squamous</td>\n",
       "      <td>72</td>\n",
       "      <td>1</td>\n",
       "      <td>60</td>\n",
       "      <td>7</td>\n",
       "      <td>69</td>\n",
       "      <td>0</td>\n",
       "    </tr>\n",
       "    <tr>\n",
       "      <th>1</th>\n",
       "      <td>1</td>\n",
       "      <td>squamous</td>\n",
       "      <td>411</td>\n",
       "      <td>1</td>\n",
       "      <td>70</td>\n",
       "      <td>5</td>\n",
       "      <td>64</td>\n",
       "      <td>10</td>\n",
       "    </tr>\n",
       "    <tr>\n",
       "      <th>2</th>\n",
       "      <td>1</td>\n",
       "      <td>squamous</td>\n",
       "      <td>228</td>\n",
       "      <td>1</td>\n",
       "      <td>60</td>\n",
       "      <td>3</td>\n",
       "      <td>38</td>\n",
       "      <td>0</td>\n",
       "    </tr>\n",
       "    <tr>\n",
       "      <th>3</th>\n",
       "      <td>1</td>\n",
       "      <td>squamous</td>\n",
       "      <td>126</td>\n",
       "      <td>1</td>\n",
       "      <td>60</td>\n",
       "      <td>9</td>\n",
       "      <td>63</td>\n",
       "      <td>10</td>\n",
       "    </tr>\n",
       "    <tr>\n",
       "      <th>4</th>\n",
       "      <td>1</td>\n",
       "      <td>squamous</td>\n",
       "      <td>118</td>\n",
       "      <td>1</td>\n",
       "      <td>70</td>\n",
       "      <td>11</td>\n",
       "      <td>65</td>\n",
       "      <td>10</td>\n",
       "    </tr>\n",
       "  </tbody>\n",
       "</table>\n",
       "</div>"
      ],
      "text/plain": [
       "   trt  celltype  time  status  karno  diagtime  age  prior\n",
       "0    1  squamous    72       1     60         7   69      0\n",
       "1    1  squamous   411       1     70         5   64     10\n",
       "2    1  squamous   228       1     60         3   38      0\n",
       "3    1  squamous   126       1     60         9   63     10\n",
       "4    1  squamous   118       1     70        11   65     10"
      ]
     },
     "execution_count": 5,
     "metadata": {},
     "output_type": "execute_result"
    }
   ],
   "source": [
    "#import dataset\n",
    "dataset = pd.read_csv(\"veteran.csv\")\n",
    "dataset.head()    "
   ]
  },
  {
   "cell_type": "markdown",
   "metadata": {},
   "source": [
    "- trt: 1=standard 2=test\n",
    "- celltype: 1=squamous, 2=smallcell, 3=adeno, 4=large\n",
    "- time: survival time\n",
    "- status: censoring status\n",
    "- karno: Karnofsky performance score (100=good)\n",
    "- diagtime: months from diagnosis to randomisation\n",
    "- age: in years\n",
    "-  prior: prior therapy 0=no, 10=yes"
   ]
  },
  {
   "cell_type": "code",
   "execution_count": 6,
   "metadata": {},
   "outputs": [
    {
     "data": {
      "text/html": [
       "<div>\n",
       "<style scoped>\n",
       "    .dataframe tbody tr th:only-of-type {\n",
       "        vertical-align: middle;\n",
       "    }\n",
       "\n",
       "    .dataframe tbody tr th {\n",
       "        vertical-align: top;\n",
       "    }\n",
       "\n",
       "    .dataframe thead th {\n",
       "        text-align: right;\n",
       "    }\n",
       "</style>\n",
       "<table border=\"1\" class=\"dataframe\">\n",
       "  <thead>\n",
       "    <tr style=\"text-align: right;\">\n",
       "      <th></th>\n",
       "      <th>trt</th>\n",
       "      <th>time</th>\n",
       "      <th>status</th>\n",
       "      <th>karno</th>\n",
       "      <th>diagtime</th>\n",
       "      <th>age</th>\n",
       "      <th>prior</th>\n",
       "      <th>celltype_large</th>\n",
       "      <th>celltype_smallcell</th>\n",
       "      <th>celltype_squamous</th>\n",
       "    </tr>\n",
       "  </thead>\n",
       "  <tbody>\n",
       "    <tr>\n",
       "      <th>0</th>\n",
       "      <td>1</td>\n",
       "      <td>72</td>\n",
       "      <td>1</td>\n",
       "      <td>60</td>\n",
       "      <td>7</td>\n",
       "      <td>69</td>\n",
       "      <td>0</td>\n",
       "      <td>0</td>\n",
       "      <td>0</td>\n",
       "      <td>1</td>\n",
       "    </tr>\n",
       "    <tr>\n",
       "      <th>1</th>\n",
       "      <td>1</td>\n",
       "      <td>411</td>\n",
       "      <td>1</td>\n",
       "      <td>70</td>\n",
       "      <td>5</td>\n",
       "      <td>64</td>\n",
       "      <td>10</td>\n",
       "      <td>0</td>\n",
       "      <td>0</td>\n",
       "      <td>1</td>\n",
       "    </tr>\n",
       "    <tr>\n",
       "      <th>2</th>\n",
       "      <td>1</td>\n",
       "      <td>228</td>\n",
       "      <td>1</td>\n",
       "      <td>60</td>\n",
       "      <td>3</td>\n",
       "      <td>38</td>\n",
       "      <td>0</td>\n",
       "      <td>0</td>\n",
       "      <td>0</td>\n",
       "      <td>1</td>\n",
       "    </tr>\n",
       "    <tr>\n",
       "      <th>3</th>\n",
       "      <td>1</td>\n",
       "      <td>126</td>\n",
       "      <td>1</td>\n",
       "      <td>60</td>\n",
       "      <td>9</td>\n",
       "      <td>63</td>\n",
       "      <td>10</td>\n",
       "      <td>0</td>\n",
       "      <td>0</td>\n",
       "      <td>1</td>\n",
       "    </tr>\n",
       "    <tr>\n",
       "      <th>4</th>\n",
       "      <td>1</td>\n",
       "      <td>118</td>\n",
       "      <td>1</td>\n",
       "      <td>70</td>\n",
       "      <td>11</td>\n",
       "      <td>65</td>\n",
       "      <td>10</td>\n",
       "      <td>0</td>\n",
       "      <td>0</td>\n",
       "      <td>1</td>\n",
       "    </tr>\n",
       "  </tbody>\n",
       "</table>\n",
       "</div>"
      ],
      "text/plain": [
       "   trt  time  status  karno  diagtime  age  prior  celltype_large  \\\n",
       "0    1    72       1     60         7   69      0               0   \n",
       "1    1   411       1     70         5   64     10               0   \n",
       "2    1   228       1     60         3   38      0               0   \n",
       "3    1   126       1     60         9   63     10               0   \n",
       "4    1   118       1     70        11   65     10               0   \n",
       "\n",
       "   celltype_smallcell  celltype_squamous  \n",
       "0                   0                  1  \n",
       "1                   0                  1  \n",
       "2                   0                  1  \n",
       "3                   0                  1  \n",
       "4                   0                  1  "
      ]
     },
     "execution_count": 6,
     "metadata": {},
     "output_type": "execute_result"
    }
   ],
   "source": [
    "#transform cell type\n",
    "dataset = pd.get_dummies(dataset, drop_first=True) # convert-split celltype variable into 3 dummy variables\n",
    "dataset.head()"
   ]
  },
  {
   "cell_type": "markdown",
   "metadata": {},
   "source": [
    "### 2. Cox Proportional Hazard"
   ]
  },
  {
   "cell_type": "code",
   "execution_count": 7,
   "metadata": {},
   "outputs": [
    {
     "data": {
      "text/html": [
       "<div>\n",
       "<style scoped>\n",
       "    .dataframe tbody tr th:only-of-type {\n",
       "        vertical-align: middle;\n",
       "    }\n",
       "\n",
       "    .dataframe tbody tr th {\n",
       "        vertical-align: top;\n",
       "    }\n",
       "\n",
       "    .dataframe thead th {\n",
       "        text-align: right;\n",
       "    }\n",
       "</style>\n",
       "<table border=\"1\" class=\"dataframe\">\n",
       "  <tbody>\n",
       "    <tr>\n",
       "      <th>model</th>\n",
       "      <td>lifelines.CoxPHFitter</td>\n",
       "    </tr>\n",
       "    <tr>\n",
       "      <th>duration col</th>\n",
       "      <td>'time'</td>\n",
       "    </tr>\n",
       "    <tr>\n",
       "      <th>event col</th>\n",
       "      <td>'status'</td>\n",
       "    </tr>\n",
       "    <tr>\n",
       "      <th>baseline estimation</th>\n",
       "      <td>breslow</td>\n",
       "    </tr>\n",
       "    <tr>\n",
       "      <th>number of observations</th>\n",
       "      <td>137</td>\n",
       "    </tr>\n",
       "    <tr>\n",
       "      <th>number of events observed</th>\n",
       "      <td>128</td>\n",
       "    </tr>\n",
       "    <tr>\n",
       "      <th>partial log-likelihood</th>\n",
       "      <td>-474.40</td>\n",
       "    </tr>\n",
       "    <tr>\n",
       "      <th>time fit was run</th>\n",
       "      <td>2022-12-12 00:05:18 UTC</td>\n",
       "    </tr>\n",
       "  </tbody>\n",
       "</table>\n",
       "</div><table border=\"1\" class=\"dataframe\">\n",
       "  <thead>\n",
       "    <tr style=\"text-align: right;\">\n",
       "      <th style=\"min-width: 12px;\"></th>\n",
       "      <th style=\"min-width: 12px;\">coef</th>\n",
       "      <th style=\"min-width: 12px;\">exp(coef)</th>\n",
       "      <th style=\"min-width: 12px;\">se(coef)</th>\n",
       "      <th style=\"min-width: 12px;\">coef lower 95%</th>\n",
       "      <th style=\"min-width: 12px;\">coef upper 95%</th>\n",
       "      <th style=\"min-width: 12px;\">exp(coef) lower 95%</th>\n",
       "      <th style=\"min-width: 12px;\">exp(coef) upper 95%</th>\n",
       "      <th style=\"min-width: 12px;\">cmp to</th>\n",
       "      <th style=\"min-width: 12px;\">z</th>\n",
       "      <th style=\"min-width: 12px;\">p</th>\n",
       "      <th style=\"min-width: 12px;\">-log2(p)</th>\n",
       "    </tr>\n",
       "  </thead>\n",
       "  <tbody>\n",
       "    <tr>\n",
       "      <th>trt</th>\n",
       "      <td>0.29</td>\n",
       "      <td>1.34</td>\n",
       "      <td>0.21</td>\n",
       "      <td>-0.11</td>\n",
       "      <td>0.70</td>\n",
       "      <td>0.89</td>\n",
       "      <td>2.02</td>\n",
       "      <td>0.00</td>\n",
       "      <td>1.42</td>\n",
       "      <td>0.16</td>\n",
       "      <td>2.68</td>\n",
       "    </tr>\n",
       "    <tr>\n",
       "      <th>karno</th>\n",
       "      <td>-0.03</td>\n",
       "      <td>0.97</td>\n",
       "      <td>0.01</td>\n",
       "      <td>-0.04</td>\n",
       "      <td>-0.02</td>\n",
       "      <td>0.96</td>\n",
       "      <td>0.98</td>\n",
       "      <td>0.00</td>\n",
       "      <td>-5.96</td>\n",
       "      <td>&lt;0.005</td>\n",
       "      <td>28.55</td>\n",
       "    </tr>\n",
       "    <tr>\n",
       "      <th>diagtime</th>\n",
       "      <td>0.00</td>\n",
       "      <td>1.00</td>\n",
       "      <td>0.01</td>\n",
       "      <td>-0.02</td>\n",
       "      <td>0.02</td>\n",
       "      <td>0.98</td>\n",
       "      <td>1.02</td>\n",
       "      <td>0.00</td>\n",
       "      <td>0.01</td>\n",
       "      <td>0.99</td>\n",
       "      <td>0.01</td>\n",
       "    </tr>\n",
       "    <tr>\n",
       "      <th>age</th>\n",
       "      <td>-0.01</td>\n",
       "      <td>0.99</td>\n",
       "      <td>0.01</td>\n",
       "      <td>-0.03</td>\n",
       "      <td>0.01</td>\n",
       "      <td>0.97</td>\n",
       "      <td>1.01</td>\n",
       "      <td>0.00</td>\n",
       "      <td>-0.94</td>\n",
       "      <td>0.35</td>\n",
       "      <td>1.52</td>\n",
       "    </tr>\n",
       "    <tr>\n",
       "      <th>prior</th>\n",
       "      <td>0.01</td>\n",
       "      <td>1.01</td>\n",
       "      <td>0.02</td>\n",
       "      <td>-0.04</td>\n",
       "      <td>0.05</td>\n",
       "      <td>0.96</td>\n",
       "      <td>1.05</td>\n",
       "      <td>0.00</td>\n",
       "      <td>0.31</td>\n",
       "      <td>0.76</td>\n",
       "      <td>0.40</td>\n",
       "    </tr>\n",
       "    <tr>\n",
       "      <th>celltype_large</th>\n",
       "      <td>-0.79</td>\n",
       "      <td>0.45</td>\n",
       "      <td>0.30</td>\n",
       "      <td>-1.39</td>\n",
       "      <td>-0.20</td>\n",
       "      <td>0.25</td>\n",
       "      <td>0.82</td>\n",
       "      <td>0.00</td>\n",
       "      <td>-2.62</td>\n",
       "      <td>0.01</td>\n",
       "      <td>6.85</td>\n",
       "    </tr>\n",
       "    <tr>\n",
       "      <th>celltype_smallcell</th>\n",
       "      <td>-0.33</td>\n",
       "      <td>0.72</td>\n",
       "      <td>0.28</td>\n",
       "      <td>-0.88</td>\n",
       "      <td>0.21</td>\n",
       "      <td>0.42</td>\n",
       "      <td>1.23</td>\n",
       "      <td>0.00</td>\n",
       "      <td>-1.21</td>\n",
       "      <td>0.23</td>\n",
       "      <td>2.15</td>\n",
       "    </tr>\n",
       "    <tr>\n",
       "      <th>celltype_squamous</th>\n",
       "      <td>-1.20</td>\n",
       "      <td>0.30</td>\n",
       "      <td>0.30</td>\n",
       "      <td>-1.79</td>\n",
       "      <td>-0.61</td>\n",
       "      <td>0.17</td>\n",
       "      <td>0.55</td>\n",
       "      <td>0.00</td>\n",
       "      <td>-3.97</td>\n",
       "      <td>&lt;0.005</td>\n",
       "      <td>13.79</td>\n",
       "    </tr>\n",
       "  </tbody>\n",
       "</table><br><div>\n",
       "<style scoped>\n",
       "    .dataframe tbody tr th:only-of-type {\n",
       "        vertical-align: middle;\n",
       "    }\n",
       "\n",
       "    .dataframe tbody tr th {\n",
       "        vertical-align: top;\n",
       "    }\n",
       "\n",
       "    .dataframe thead th {\n",
       "        text-align: right;\n",
       "    }\n",
       "</style>\n",
       "<table border=\"1\" class=\"dataframe\">\n",
       "  <tbody>\n",
       "    <tr>\n",
       "      <th>Concordance</th>\n",
       "      <td>0.74</td>\n",
       "    </tr>\n",
       "    <tr>\n",
       "      <th>Partial AIC</th>\n",
       "      <td>964.79</td>\n",
       "    </tr>\n",
       "    <tr>\n",
       "      <th>log-likelihood ratio test</th>\n",
       "      <td>62.10 on 8 df</td>\n",
       "    </tr>\n",
       "    <tr>\n",
       "      <th>-log2(p) of ll-ratio test</th>\n",
       "      <td>32.37</td>\n",
       "    </tr>\n",
       "  </tbody>\n",
       "</table>\n",
       "</div>"
      ],
      "text/latex": [
       "\\begin{tabular}{lrrrrrrrrrrr}\n",
       "{} & {coef} & {exp(coef)} & {se(coef)} & {coef lower 95%} & {coef upper 95%} & {exp(coef) lower 95%} & {exp(coef) upper 95%} & {cmp to} & {z} & {p} & {-log2(p)} \\\\\n",
       "{covariate} & {} & {} & {} & {} & {} & {} & {} & {} & {} & {} & {} \\\\\n",
       "trt & 0.29 & 1.34 & 0.21 & -0.11 & 0.70 & 0.89 & 2.02 & 0.00 & 1.42 & 0.16 & 2.68 \\\\\n",
       "karno & -0.03 & 0.97 & 0.01 & -0.04 & -0.02 & 0.96 & 0.98 & 0.00 & -5.96 & 0.00 & 28.55 \\\\\n",
       "diagtime & 0.00 & 1.00 & 0.01 & -0.02 & 0.02 & 0.98 & 1.02 & 0.00 & 0.01 & 0.99 & 0.01 \\\\\n",
       "age & -0.01 & 0.99 & 0.01 & -0.03 & 0.01 & 0.97 & 1.01 & 0.00 & -0.94 & 0.35 & 1.52 \\\\\n",
       "prior & 0.01 & 1.01 & 0.02 & -0.04 & 0.05 & 0.96 & 1.05 & 0.00 & 0.31 & 0.76 & 0.40 \\\\\n",
       "celltype_large & -0.79 & 0.45 & 0.30 & -1.39 & -0.20 & 0.25 & 0.82 & 0.00 & -2.62 & 0.01 & 6.85 \\\\\n",
       "celltype_smallcell & -0.33 & 0.72 & 0.28 & -0.88 & 0.21 & 0.42 & 1.23 & 0.00 & -1.21 & 0.23 & 2.15 \\\\\n",
       "celltype_squamous & -1.20 & 0.30 & 0.30 & -1.79 & -0.61 & 0.17 & 0.55 & 0.00 & -3.97 & 0.00 & 13.79 \\\\\n",
       "\\end{tabular}\n"
      ],
      "text/plain": [
       "<lifelines.CoxPHFitter: fitted with 137 total observations, 9 right-censored observations>\n",
       "             duration col = 'time'\n",
       "                event col = 'status'\n",
       "      baseline estimation = breslow\n",
       "   number of observations = 137\n",
       "number of events observed = 128\n",
       "   partial log-likelihood = -474.40\n",
       "         time fit was run = 2022-12-12 00:05:18 UTC\n",
       "\n",
       "---\n",
       "                     coef  exp(coef)   se(coef)   coef lower 95%   coef upper 95%  exp(coef) lower 95%  exp(coef) upper 95%\n",
       "covariate                                                                                                                  \n",
       "trt                  0.29       1.34       0.21            -0.11             0.70                 0.89                 2.02\n",
       "karno               -0.03       0.97       0.01            -0.04            -0.02                 0.96                 0.98\n",
       "diagtime             0.00       1.00       0.01            -0.02             0.02                 0.98                 1.02\n",
       "age                 -0.01       0.99       0.01            -0.03             0.01                 0.97                 1.01\n",
       "prior                0.01       1.01       0.02            -0.04             0.05                 0.96                 1.05\n",
       "celltype_large      -0.79       0.45       0.30            -1.39            -0.20                 0.25                 0.82\n",
       "celltype_smallcell  -0.33       0.72       0.28            -0.88             0.21                 0.42                 1.23\n",
       "celltype_squamous   -1.20       0.30       0.30            -1.79            -0.61                 0.17                 0.55\n",
       "\n",
       "                     cmp to     z      p   -log2(p)\n",
       "covariate                                          \n",
       "trt                    0.00  1.42   0.16       2.68\n",
       "karno                  0.00 -5.96 <0.005      28.55\n",
       "diagtime               0.00  0.01   0.99       0.01\n",
       "age                    0.00 -0.94   0.35       1.52\n",
       "prior                  0.00  0.31   0.76       0.40\n",
       "celltype_large         0.00 -2.62   0.01       6.85\n",
       "celltype_smallcell     0.00 -1.21   0.23       2.15\n",
       "celltype_squamous      0.00 -3.97 <0.005      13.79\n",
       "---\n",
       "Concordance = 0.74\n",
       "Partial AIC = 964.79\n",
       "log-likelihood ratio test = 62.10 on 8 df\n",
       "-log2(p) of ll-ratio test = 32.37"
      ]
     },
     "metadata": {},
     "output_type": "display_data"
    }
   ],
   "source": [
    "#CPH\n",
    "from lifelines import CoxPHFitter\n",
    "model = CoxPHFitter()\n",
    "model.fit(dataset, \n",
    "          \"time\",\n",
    "          event_col = \"status\")\n",
    "model.print_summary()"
   ]
  },
  {
   "cell_type": "code",
   "execution_count": 8,
   "metadata": {},
   "outputs": [
    {
     "data": {
      "text/plain": [
       "<AxesSubplot:xlabel='log(HR) (95% CI)'>"
      ]
     },
     "execution_count": 8,
     "metadata": {},
     "output_type": "execute_result"
    },
    {
     "data": {
      "image/png": "[encoded data removed]",
      "text/plain": [
       "<Figure size 432x288 with 1 Axes>"
      ]
     },
     "metadata": {
      "needs_background": "light"
     },
     "output_type": "display_data"
    }
   ],
   "source": [
    "#plotting\n",
    "model.plot()"
   ]
  },
  {
   "cell_type": "code",
   "execution_count": null,
   "metadata": {},
   "outputs": [],
   "source": []
  }
 ],
 "metadata": {
  "colab": {
   "authorship_tag": "ABX9TyO8JYYTFsr9blZdrOqYixDT",
   "collapsed_sections": [],
   "mount_file_id": "1AQRJQ1FvMJoA4mS32oOINcdSuGe0MA6H",
   "name": "Cox Proportional Hazard template.ipynb",
   "provenance": []
  },
  "kernelspec": {
   "display_name": "Python 3 (ipykernel)",
   "language": "python",
   "name": "python3"
  },
  "language_info": {
   "codemirror_mode": {
    "name": "ipython",
    "version": 3
   },
   "file_extension": ".py",
   "mimetype": "text/x-python",
   "name": "python",
   "nbconvert_exporter": "python",
   "pygments_lexer": "ipython3",
   "version": "3.9.7"
  }
 },
 "nbformat": 4,
 "nbformat_minor": 1
}
